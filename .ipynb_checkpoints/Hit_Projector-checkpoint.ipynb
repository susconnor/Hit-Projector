{
 "cells": [
  {
   "cell_type": "code",
   "execution_count": 1,
   "id": "162d7167-51ca-4ab8-b209-e4bb1d2e340b",
   "metadata": {
    "scrolled": true
   },
   "outputs": [
    {
     "name": "stdout",
     "output_type": "stream",
     "text": [
      "Requirement already satisfied: pybaseball in c:\\users\\csusa\\anaconda3\\lib\\site-packages (2.2.7)\n",
      "Requirement already satisfied: numpy>=1.13.0 in c:\\users\\csusa\\anaconda3\\lib\\site-packages (from pybaseball) (1.26.4)\n",
      "Requirement already satisfied: pandas>=1.0.3 in c:\\users\\csusa\\anaconda3\\lib\\site-packages (from pybaseball) (2.1.4)\n",
      "Requirement already satisfied: beautifulsoup4>=4.4.0 in c:\\users\\csusa\\anaconda3\\lib\\site-packages (from pybaseball) (4.12.2)\n",
      "Requirement already satisfied: requests>=2.18.1 in c:\\users\\csusa\\anaconda3\\lib\\site-packages (from pybaseball) (2.31.0)\n",
      "Requirement already satisfied: lxml>=4.2.1 in c:\\users\\csusa\\anaconda3\\lib\\site-packages (from pybaseball) (4.9.3)\n",
      "Requirement already satisfied: pyarrow>=1.0.1 in c:\\users\\csusa\\anaconda3\\lib\\site-packages (from pybaseball) (14.0.2)\n",
      "Requirement already satisfied: pygithub>=1.51 in c:\\users\\csusa\\anaconda3\\lib\\site-packages (from pybaseball) (2.3.0)\n",
      "Requirement already satisfied: scipy>=1.4.0 in c:\\users\\csusa\\anaconda3\\lib\\site-packages (from pybaseball) (1.11.4)\n",
      "Requirement already satisfied: matplotlib>=2.0.0 in c:\\users\\csusa\\anaconda3\\lib\\site-packages (from pybaseball) (3.8.0)\n",
      "Requirement already satisfied: tqdm>=4.50.0 in c:\\users\\csusa\\anaconda3\\lib\\site-packages (from pybaseball) (4.65.0)\n",
      "Requirement already satisfied: attrs>=20.3.0 in c:\\users\\csusa\\anaconda3\\lib\\site-packages (from pybaseball) (23.1.0)\n",
      "Requirement already satisfied: soupsieve>1.2 in c:\\users\\csusa\\anaconda3\\lib\\site-packages (from beautifulsoup4>=4.4.0->pybaseball) (2.5)\n",
      "Requirement already satisfied: contourpy>=1.0.1 in c:\\users\\csusa\\anaconda3\\lib\\site-packages (from matplotlib>=2.0.0->pybaseball) (1.2.0)\n",
      "Requirement already satisfied: cycler>=0.10 in c:\\users\\csusa\\anaconda3\\lib\\site-packages (from matplotlib>=2.0.0->pybaseball) (0.11.0)\n",
      "Requirement already satisfied: fonttools>=4.22.0 in c:\\users\\csusa\\anaconda3\\lib\\site-packages (from matplotlib>=2.0.0->pybaseball) (4.25.0)\n",
      "Requirement already satisfied: kiwisolver>=1.0.1 in c:\\users\\csusa\\anaconda3\\lib\\site-packages (from matplotlib>=2.0.0->pybaseball) (1.4.4)\n",
      "Requirement already satisfied: packaging>=20.0 in c:\\users\\csusa\\anaconda3\\lib\\site-packages (from matplotlib>=2.0.0->pybaseball) (23.1)\n",
      "Requirement already satisfied: pillow>=6.2.0 in c:\\users\\csusa\\anaconda3\\lib\\site-packages (from matplotlib>=2.0.0->pybaseball) (10.2.0)\n",
      "Requirement already satisfied: pyparsing>=2.3.1 in c:\\users\\csusa\\anaconda3\\lib\\site-packages (from matplotlib>=2.0.0->pybaseball) (3.0.9)\n",
      "Requirement already satisfied: python-dateutil>=2.7 in c:\\users\\csusa\\anaconda3\\lib\\site-packages (from matplotlib>=2.0.0->pybaseball) (2.8.2)\n",
      "Requirement already satisfied: pytz>=2020.1 in c:\\users\\csusa\\anaconda3\\lib\\site-packages (from pandas>=1.0.3->pybaseball) (2023.3.post1)\n",
      "Requirement already satisfied: tzdata>=2022.1 in c:\\users\\csusa\\anaconda3\\lib\\site-packages (from pandas>=1.0.3->pybaseball) (2023.3)\n",
      "Requirement already satisfied: pynacl>=1.4.0 in c:\\users\\csusa\\anaconda3\\lib\\site-packages (from pygithub>=1.51->pybaseball) (1.5.0)\n",
      "Requirement already satisfied: pyjwt>=2.4.0 in c:\\users\\csusa\\anaconda3\\lib\\site-packages (from pyjwt[crypto]>=2.4.0->pygithub>=1.51->pybaseball) (2.4.0)\n",
      "Requirement already satisfied: typing-extensions>=4.0.0 in c:\\users\\csusa\\anaconda3\\lib\\site-packages (from pygithub>=1.51->pybaseball) (4.9.0)\n",
      "Requirement already satisfied: urllib3>=1.26.0 in c:\\users\\csusa\\anaconda3\\lib\\site-packages (from pygithub>=1.51->pybaseball) (2.0.7)\n",
      "Requirement already satisfied: Deprecated in c:\\users\\csusa\\anaconda3\\lib\\site-packages (from pygithub>=1.51->pybaseball) (1.2.14)\n",
      "Requirement already satisfied: charset-normalizer<4,>=2 in c:\\users\\csusa\\anaconda3\\lib\\site-packages (from requests>=2.18.1->pybaseball) (2.0.4)\n",
      "Requirement already satisfied: idna<4,>=2.5 in c:\\users\\csusa\\anaconda3\\lib\\site-packages (from requests>=2.18.1->pybaseball) (3.4)\n",
      "Requirement already satisfied: certifi>=2017.4.17 in c:\\users\\csusa\\anaconda3\\lib\\site-packages (from requests>=2.18.1->pybaseball) (2024.2.2)\n",
      "Requirement already satisfied: colorama in c:\\users\\csusa\\anaconda3\\lib\\site-packages (from tqdm>=4.50.0->pybaseball) (0.4.6)\n",
      "Requirement already satisfied: cryptography>=3.3.1 in c:\\users\\csusa\\anaconda3\\lib\\site-packages (from pyjwt[crypto]>=2.4.0->pygithub>=1.51->pybaseball) (42.0.2)\n",
      "Requirement already satisfied: cffi>=1.4.1 in c:\\users\\csusa\\anaconda3\\lib\\site-packages (from pynacl>=1.4.0->pygithub>=1.51->pybaseball) (1.16.0)\n",
      "Requirement already satisfied: six>=1.5 in c:\\users\\csusa\\anaconda3\\lib\\site-packages (from python-dateutil>=2.7->matplotlib>=2.0.0->pybaseball) (1.16.0)\n",
      "Requirement already satisfied: wrapt<2,>=1.10 in c:\\users\\csusa\\anaconda3\\lib\\site-packages (from Deprecated->pygithub>=1.51->pybaseball) (1.14.1)\n",
      "Requirement already satisfied: pycparser in c:\\users\\csusa\\anaconda3\\lib\\site-packages (from cffi>=1.4.1->pynacl>=1.4.0->pygithub>=1.51->pybaseball) (2.21)\n"
     ]
    }
   ],
   "source": [
    "!pip install pybaseball"
   ]
  },
  {
   "cell_type": "code",
   "execution_count": 2,
   "id": "e6d3443c-21f8-4182-8731-4d171b862f83",
   "metadata": {},
   "outputs": [],
   "source": [
    "import pandas as pd\n",
    "import numpy as np\n",
    "import pybaseball as pyb"
   ]
  },
  {
   "cell_type": "code",
   "execution_count": 3,
   "id": "03de4102-872e-4bf3-a54a-9b5e28a16310",
   "metadata": {},
   "outputs": [
    {
     "name": "stdout",
     "output_type": "stream",
     "text": [
      "This is a large query, it may take a moment to complete\n"
     ]
    },
    {
     "name": "stderr",
     "output_type": "stream",
     "text": [
      "100%|██████████████████████████████████████████████████████████████████████████████████| 62/62 [00:38<00:00,  1.63it/s]\n"
     ]
    }
   ],
   "source": [
    "statcast_data = pyb.statcast(start_dt='2022-04-07', end_dt='2022-06-07') #pull statcast data into a data frame.\n",
    "#create new data frame using only relevant stats\n",
    "data = statcast_data[['stand', 'launch_angle', 'launch_speed', 'hc_x', 'hc_y', 'events']].dropna() \n",
    "data['ba'] = 0 # new column for batting average\n",
    "data.loc[data['events'].isin(['single', 'double', 'triple', 'home_run']), 'ba'] = 1.0\n",
    "data = data[~data['events'].isin(['sac_fly', 'sac_bunt', 'field_error'])] \n"
   ]
  },
  {
   "cell_type": "code",
   "execution_count": 4,
   "id": "61675d96-e63e-40ad-aee2-ac60adcdbe09",
   "metadata": {},
   "outputs": [],
   "source": [
    "#hc_x and hc_y represent the location where the batted ball was fielded. \n",
    "\n",
    "data.hc_x = (data.hc_x - 125.42)\n",
    "data.hc_y = (198.27 - data.hc_y)\n",
    "spray_angle = np.round(np.arctan(data.hc_x / data.hc_y) * 180 / np.pi * 0.75)\n",
    "spray_angle[data['stand'] == 'L'] *= -1 # spray angle is dependent on the hitter's handedness\n",
    "data['spray_angle'] = spray_angle"
   ]
  },
  {
   "cell_type": "code",
   "execution_count": 5,
   "id": "75572b49-2c42-4b46-b060-da452a00b4bb",
   "metadata": {},
   "outputs": [],
   "source": [
    "from sklearn.model_selection import train_test_split"
   ]
  },
  {
   "cell_type": "code",
   "execution_count": 6,
   "id": "b2e09443-9c9f-4270-9790-49fa99d2e677",
   "metadata": {},
   "outputs": [
    {
     "name": "stdout",
     "output_type": "stream",
     "text": [
      "      stand  launch_angle  launch_speed  ba  spray_angle\n",
      "468       1            21         105.3   1        -12.0\n",
      "902       0            -2          96.7   0        -10.0\n",
      "930       1            18          95.8   0         -3.0\n",
      "1242      0           -10          85.4   1         35.0\n",
      "896       1             4          85.8   0        -25.0\n",
      "1509      0           -26          80.2   0         -2.0\n",
      "2029      1           -53          88.7   0         -7.0\n",
      "1005      0            64          81.5   0         36.0\n",
      "1389      0           -34          80.7   0         -9.0\n",
      "1701      1            15          70.0   1         21.0\n"
     ]
    }
   ],
   "source": [
    "rf_data = data.drop(columns=['hc_x', 'hc_y', 'events'])\n",
    "rf_data['stand'] = rf_data['stand'].map({'R':0, 'L':1})\n",
    "print(rf_data.tail(10))\n",
    "\n",
    "X = rf_data.drop(columns=['ba'])\n",
    "y = rf_data['ba']"
   ]
  },
  {
   "cell_type": "code",
   "execution_count": 7,
   "id": "01138d63-2dde-41d5-9238-e0816fd4c6d5",
   "metadata": {},
   "outputs": [],
   "source": [
    "X_train, X_test, y_train, y_test = train_test_split(X, y, random_state=4, test_size=0.2)"
   ]
  },
  {
   "cell_type": "code",
   "execution_count": 8,
   "id": "2e42364a-ff21-475d-b664-f29b76d7fb94",
   "metadata": {},
   "outputs": [],
   "source": [
    "from sklearn.ensemble import RandomForestClassifier, GradientBoostingClassifier"
   ]
  },
  {
   "cell_type": "code",
   "execution_count": 9,
   "id": "0a029f96-ddb8-44b8-a843-6552611fd824",
   "metadata": {},
   "outputs": [],
   "source": [
    "rf = RandomForestClassifier(class_weight='balanced')\n",
    "gb = GradientBoostingClassifier()\n",
    "\n",
    "#rf.fit(X_train, y_train)\n",
    "#y_pred = rf.predict(X_test)"
   ]
  },
  {
   "cell_type": "code",
   "execution_count": 10,
   "id": "124d4d91-dbed-4321-a390-7898f460dc3e",
   "metadata": {},
   "outputs": [
    {
     "name": "stdout",
     "output_type": "stream",
     "text": [
      "Requirement already satisfied: xgboost in c:\\users\\csusa\\anaconda3\\lib\\site-packages (2.1.0)\n",
      "Requirement already satisfied: numpy in c:\\users\\csusa\\anaconda3\\lib\\site-packages (from xgboost) (1.26.4)\n",
      "Requirement already satisfied: scipy in c:\\users\\csusa\\anaconda3\\lib\\site-packages (from xgboost) (1.11.4)\n",
      "Note: you may need to restart the kernel to use updated packages.\n"
     ]
    }
   ],
   "source": [
    "pip install xgboost"
   ]
  },
  {
   "cell_type": "code",
   "execution_count": 11,
   "id": "2e2a4b65-e5e7-4452-abf9-d3e518480e91",
   "metadata": {},
   "outputs": [],
   "source": [
    "import xgboost as xgb\n",
    "\n",
    "xgb_model = xgb.XGBClassifier().fit(X_train, y_train)\n",
    "y_pred = xgb_model.predict(X_test)"
   ]
  },
  {
   "cell_type": "code",
   "execution_count": 12,
   "id": "db1ff579-09a8-4863-968e-ff41c7b87ec6",
   "metadata": {},
   "outputs": [],
   "source": [
    "from sklearn.metrics import classification_report"
   ]
  },
  {
   "cell_type": "code",
   "execution_count": 13,
   "id": "d5d00916-4558-4fb0-84d8-a6a90bf1490f",
   "metadata": {
    "scrolled": true
   },
   "outputs": [
    {
     "name": "stdout",
     "output_type": "stream",
     "text": [
      "              precision    recall  f1-score   support\n",
      "\n",
      "           0       0.87      0.90      0.88      5538\n",
      "           1       0.78      0.71      0.75      2711\n",
      "\n",
      "    accuracy                           0.84      8249\n",
      "   macro avg       0.82      0.81      0.81      8249\n",
      "weighted avg       0.84      0.84      0.84      8249\n",
      "\n"
     ]
    }
   ],
   "source": [
    "print(classification_report(y_test, y_pred))"
   ]
  },
  {
   "cell_type": "code",
   "execution_count": 14,
   "id": "ede57f38-cdc4-4e18-b088-156cb028be77",
   "metadata": {},
   "outputs": [
    {
     "name": "stdout",
     "output_type": "stream",
     "text": [
      "Requirement already satisfied: seaborn in c:\\users\\csusa\\anaconda3\\lib\\site-packages (0.12.2)\n",
      "Requirement already satisfied: numpy!=1.24.0,>=1.17 in c:\\users\\csusa\\anaconda3\\lib\\site-packages (from seaborn) (1.26.4)\n",
      "Requirement already satisfied: pandas>=0.25 in c:\\users\\csusa\\anaconda3\\lib\\site-packages (from seaborn) (2.1.4)\n",
      "Requirement already satisfied: matplotlib!=3.6.1,>=3.1 in c:\\users\\csusa\\anaconda3\\lib\\site-packages (from seaborn) (3.8.0)\n",
      "Requirement already satisfied: contourpy>=1.0.1 in c:\\users\\csusa\\anaconda3\\lib\\site-packages (from matplotlib!=3.6.1,>=3.1->seaborn) (1.2.0)\n",
      "Requirement already satisfied: cycler>=0.10 in c:\\users\\csusa\\anaconda3\\lib\\site-packages (from matplotlib!=3.6.1,>=3.1->seaborn) (0.11.0)\n",
      "Requirement already satisfied: fonttools>=4.22.0 in c:\\users\\csusa\\anaconda3\\lib\\site-packages (from matplotlib!=3.6.1,>=3.1->seaborn) (4.25.0)\n",
      "Requirement already satisfied: kiwisolver>=1.0.1 in c:\\users\\csusa\\anaconda3\\lib\\site-packages (from matplotlib!=3.6.1,>=3.1->seaborn) (1.4.4)\n",
      "Requirement already satisfied: packaging>=20.0 in c:\\users\\csusa\\anaconda3\\lib\\site-packages (from matplotlib!=3.6.1,>=3.1->seaborn) (23.1)\n",
      "Requirement already satisfied: pillow>=6.2.0 in c:\\users\\csusa\\anaconda3\\lib\\site-packages (from matplotlib!=3.6.1,>=3.1->seaborn) (10.2.0)\n",
      "Requirement already satisfied: pyparsing>=2.3.1 in c:\\users\\csusa\\anaconda3\\lib\\site-packages (from matplotlib!=3.6.1,>=3.1->seaborn) (3.0.9)\n",
      "Requirement already satisfied: python-dateutil>=2.7 in c:\\users\\csusa\\anaconda3\\lib\\site-packages (from matplotlib!=3.6.1,>=3.1->seaborn) (2.8.2)\n",
      "Requirement already satisfied: pytz>=2020.1 in c:\\users\\csusa\\anaconda3\\lib\\site-packages (from pandas>=0.25->seaborn) (2023.3.post1)\n",
      "Requirement already satisfied: tzdata>=2022.1 in c:\\users\\csusa\\anaconda3\\lib\\site-packages (from pandas>=0.25->seaborn) (2023.3)\n",
      "Requirement already satisfied: six>=1.5 in c:\\users\\csusa\\anaconda3\\lib\\site-packages (from python-dateutil>=2.7->matplotlib!=3.6.1,>=3.1->seaborn) (1.16.0)\n"
     ]
    }
   ],
   "source": [
    "!pip install seaborn "
   ]
  },
  {
   "cell_type": "code",
   "execution_count": 15,
   "id": "ffd68e1e-da3d-405a-849f-73c8c1075116",
   "metadata": {},
   "outputs": [
    {
     "name": "stdout",
     "output_type": "stream",
     "text": [
      "Requirement already satisfied: ipywidgets in c:\\users\\csusa\\anaconda3\\lib\\site-packages (8.1.3)\n",
      "Requirement already satisfied: comm>=0.1.3 in c:\\users\\csusa\\anaconda3\\lib\\site-packages (from ipywidgets) (0.2.2)\n",
      "Requirement already satisfied: ipython>=6.1.0 in c:\\users\\csusa\\anaconda3\\lib\\site-packages (from ipywidgets) (8.20.0)\n",
      "Requirement already satisfied: traitlets>=4.3.1 in c:\\users\\csusa\\anaconda3\\lib\\site-packages (from ipywidgets) (5.7.1)\n",
      "Requirement already satisfied: widgetsnbextension~=4.0.11 in c:\\users\\csusa\\anaconda3\\lib\\site-packages (from ipywidgets) (4.0.11)\n",
      "Requirement already satisfied: jupyterlab-widgets~=3.0.11 in c:\\users\\csusa\\anaconda3\\lib\\site-packages (from ipywidgets) (3.0.11)\n",
      "Requirement already satisfied: decorator in c:\\users\\csusa\\anaconda3\\lib\\site-packages (from ipython>=6.1.0->ipywidgets) (5.1.1)\n",
      "Requirement already satisfied: jedi>=0.16 in c:\\users\\csusa\\anaconda3\\lib\\site-packages (from ipython>=6.1.0->ipywidgets) (0.18.1)\n",
      "Requirement already satisfied: matplotlib-inline in c:\\users\\csusa\\anaconda3\\lib\\site-packages (from ipython>=6.1.0->ipywidgets) (0.1.6)\n",
      "Requirement already satisfied: prompt-toolkit<3.1.0,>=3.0.41 in c:\\users\\csusa\\anaconda3\\lib\\site-packages (from ipython>=6.1.0->ipywidgets) (3.0.43)\n",
      "Requirement already satisfied: pygments>=2.4.0 in c:\\users\\csusa\\anaconda3\\lib\\site-packages (from ipython>=6.1.0->ipywidgets) (2.15.1)\n",
      "Requirement already satisfied: stack-data in c:\\users\\csusa\\anaconda3\\lib\\site-packages (from ipython>=6.1.0->ipywidgets) (0.2.0)\n",
      "Requirement already satisfied: colorama in c:\\users\\csusa\\anaconda3\\lib\\site-packages (from ipython>=6.1.0->ipywidgets) (0.4.6)\n",
      "Requirement already satisfied: parso<0.9.0,>=0.8.0 in c:\\users\\csusa\\anaconda3\\lib\\site-packages (from jedi>=0.16->ipython>=6.1.0->ipywidgets) (0.8.3)\n",
      "Requirement already satisfied: wcwidth in c:\\users\\csusa\\anaconda3\\lib\\site-packages (from prompt-toolkit<3.1.0,>=3.0.41->ipython>=6.1.0->ipywidgets) (0.2.5)\n",
      "Requirement already satisfied: executing in c:\\users\\csusa\\anaconda3\\lib\\site-packages (from stack-data->ipython>=6.1.0->ipywidgets) (0.8.3)\n",
      "Requirement already satisfied: asttokens in c:\\users\\csusa\\anaconda3\\lib\\site-packages (from stack-data->ipython>=6.1.0->ipywidgets) (2.0.5)\n",
      "Requirement already satisfied: pure-eval in c:\\users\\csusa\\anaconda3\\lib\\site-packages (from stack-data->ipython>=6.1.0->ipywidgets) (0.2.2)\n",
      "Requirement already satisfied: six in c:\\users\\csusa\\anaconda3\\lib\\site-packages (from asttokens->stack-data->ipython>=6.1.0->ipywidgets) (1.16.0)\n"
     ]
    }
   ],
   "source": [
    "!pip install ipywidgets --upgrade"
   ]
  },
  {
   "cell_type": "code",
   "execution_count": 16,
   "id": "b92bd6c0-2031-4a81-8b3e-b31db8ea2d05",
   "metadata": {},
   "outputs": [],
   "source": [
    "import ipywidgets as widgets\n",
    "from IPython.display import display\n",
    "from ipywidgets import interact\n",
    "import matplotlib.pyplot as plt\n",
    "import seaborn as sns\n",
    "from matplotlib.colors import ListedColormap\n"
   ]
  },
  {
   "cell_type": "code",
   "execution_count": 17,
   "id": "50c9daee-d856-4b97-9683-456d9fa82465",
   "metadata": {},
   "outputs": [
    {
     "data": {
      "application/vnd.jupyter.widget-view+json": {
       "model_id": "b67524dc8c274d278325c8f0d3a5eae4",
       "version_major": 2,
       "version_minor": 0
      },
      "text/plain": [
       "HBox(children=(IntSlider(value=10, description='Exit Velocity', max=125, min=10, style=SliderStyle(handle_colo…"
      ]
     },
     "metadata": {},
     "output_type": "display_data"
    },
    {
     "data": {
      "application/vnd.jupyter.widget-view+json": {
       "model_id": "2e500213588240d5acd633a367374f54",
       "version_major": 2,
       "version_minor": 0
      },
      "text/plain": [
       "Output()"
      ]
     },
     "metadata": {},
     "output_type": "display_data"
    }
   ],
   "source": [
    "ss= {'handle_color': '#f79168'}\n",
    "cs = '#f79168'\n",
    "ev = widgets.IntSlider(min= 10, max= 125, description= 'Exit Velocity', style= ss)\n",
    "la = widgets.IntSlider(min= -90, max= 90, description= 'Launch Angle', style= ss)\n",
    "sa = widgets.IntSlider(min= -45, max= 45, description= 'Spray Angle', style= ss)\n",
    "stand = widgets.RadioButtons(options= ['Right Handed Hitter', 'Left Handed Hitter'])\n",
    "output = widgets.Output()\n",
    "enter = widgets.Button(description= 'Predict Outcome')\n",
    "enter.style.button_color= cs\n",
    "hbox = widgets.HBox([ev, la, sa, stand, enter])\n",
    "hbox.layout.margin= 'auto'\n",
    "display(hbox, output)\n",
    "\n",
    "def plot_angles(ball, outcome):\n",
    "\n",
    "    stand = ball[0][0]\n",
    "    la = ball[0][1]\n",
    "    ev = ball[0][2]\n",
    "    sa = ball[0][3]\n",
    "    la_rad = np.radians(la)\n",
    "    sa_rad = np.radians(sa)\n",
    "    fig, ax = plt.subplots(1, 3, figsize=(15, 5), subplot_kw={'projection': 'polar'})\n",
    "\n",
    "    ax[0].text(0, 0, outcome, fontsize= 20, ha= 'center', va= 'center')\n",
    "    ax[0].axis('off')\n",
    "    \n",
    "    ax[1].plot([la_rad, la_rad], [0, 1], linewidth=4, color=cs)\n",
    "    ax[1].set_theta_zero_location('E')\n",
    "    ax[1].set_xlim(-np.pi / 2, np.pi / 2)\n",
    "    ax[1].set_title('Launch Angle')\n",
    "\n",
    "\n",
    "    ax[2].plot([sa_rad, sa_rad], [0, 1], linewidth=4, c=cs)\n",
    "    ax[2].set_title('Spray Angle LHH')\n",
    "    if stand == 0:\n",
    "        ax[2].set_theta_direction(-1)\n",
    "        ax[2].set_title('Spray Angle RHH')\n",
    "\n",
    "\n",
    "    ax[2].set_theta_zero_location('N')\n",
    "    ax[2].set_xlim(-np.pi / 4, np.pi / 4)\n",
    "\n",
    "\n",
    "\n",
    "    plt.show()\n",
    "\n",
    "def plot_graphs(graph_ball):\n",
    "\n",
    "    input_df = pd.DataFrame(graph_ball, columns=['stand', 'launch_angle', 'launch_speed' ,'ba' ,'spray_angle'])\n",
    "    all_balls = pd.concat([rf_data, input_df], ignore_index= True)\n",
    "    fig, ax = plt.subplots(1, 3, figsize=(15, 5))\n",
    "    \n",
    "    colors = ['black', '#a9b0ba', '#f79168']\n",
    "    \n",
    "    outcome_map= {0: 'Out',1: 'Hit',2: 'Projected Ball'}\n",
    "    outcomes = all_balls.ba.map(outcome_map)\n",
    "\n",
    "    sns.scatterplot(x='launch_angle', y='launch_speed', data=all_balls, hue=outcomes, palette= colors, ax= ax[0])\n",
    "    ax[0].set_title('Outcome by Exit Velo & Launch Angle')\n",
    "    ax[0].set_xlabel('Launch Angle')\n",
    "    ax[0].set_ylabel('Exit Velocity')\n",
    "    ax[0].legend(title= '', loc= 'lower left', ncol=3)\n",
    "    sns.scatterplot(x='spray_angle', y='launch_speed', data=all_balls, hue=outcomes, palette= colors, ax= ax[1])\n",
    "    ax[1].set_xlabel('Spray Angle')\n",
    "    ax[1].set_ylabel('Exit Velocity')\n",
    "    ax[1].legend(title= '', loc= 'lower left', ncol= 3)\n",
    "    ax[1].set_title('Outcome by Exit Velo & Spray Angle')\n",
    "    sns.scatterplot(x='spray_angle', y='launch_angle', data=all_balls, hue=outcomes, palette=colors, ax= ax[2])\n",
    "    ax[2].set_xlabel('Spray Angle')\n",
    "    ax[2].set_ylabel('Launch Angle')\n",
    "    ax[2].legend(title= '', loc='upper left', ncol= 3)\n",
    "    ax[2].set_title('Outcome by Spray Angle & Launch Angle')\n",
    "\n",
    "    plt.tight_layout()\n",
    "    plt.show()\n",
    "\n",
    "def clicked(_):\n",
    "    with output:\n",
    "        output.clear_output()\n",
    "        \n",
    "        ev_s= ev.value\n",
    "        la_s= la.value\n",
    "        sa_s= sa.value\n",
    "        s= 0\n",
    "        if stand.value == 'Left Handed Hitter':\n",
    "            s= 1\n",
    "        \n",
    "        ball= np.array([[s, la_s, ev_s, sa_s]])\n",
    "        balls = pd.DataFrame(ball, columns=['stand', 'launch_angle', 'launch_speed', 'spray_angle'])\n",
    "        #outcome = rf.predict(balls)\n",
    "        outcome = xgb_model.predict(balls)\n",
    "        if outcome == 0: \n",
    "            outcome = 'Prediction: Out'\n",
    "        else: outcome = 'Prediction: Hit'\n",
    "        plot_angles(ball, outcome)\n",
    "        graph_ball= np.array([[s, la_s, ev_s, 2, sa_s]])\n",
    "        plot_graphs(graph_ball)\n",
    "        \n",
    "enter.on_click(clicked)"
   ]
  },
  {
   "cell_type": "code",
   "execution_count": null,
   "id": "e3eff717-9b34-472e-a1e6-66674edfe125",
   "metadata": {},
   "outputs": [],
   "source": []
  }
 ],
 "metadata": {
  "kernelspec": {
   "display_name": "Python 3 (ipykernel)",
   "language": "python",
   "name": "python3"
  },
  "language_info": {
   "codemirror_mode": {
    "name": "ipython",
    "version": 3
   },
   "file_extension": ".py",
   "mimetype": "text/x-python",
   "name": "python",
   "nbconvert_exporter": "python",
   "pygments_lexer": "ipython3",
   "version": "3.11.7"
  }
 },
 "nbformat": 4,
 "nbformat_minor": 5
}
