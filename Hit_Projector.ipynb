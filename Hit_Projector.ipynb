{
 "cells": [
  {
   "cell_type": "code",
   "execution_count": 1,
   "id": "162d7167-51ca-4ab8-b209-e4bb1d2e340b",
   "metadata": {
    "collapsed": true,
    "jupyter": {
     "outputs_hidden": true
    },
    "scrolled": true
   },
   "outputs": [
    {
     "name": "stdout",
     "output_type": "stream",
     "text": [
      "Requirement already satisfied: pybaseball in c:\\users\\csusa\\anaconda3\\lib\\site-packages (2.2.7)\n",
      "Requirement already satisfied: numpy>=1.13.0 in c:\\users\\csusa\\anaconda3\\lib\\site-packages (from pybaseball) (1.26.4)\n",
      "Requirement already satisfied: pandas>=1.0.3 in c:\\users\\csusa\\anaconda3\\lib\\site-packages (from pybaseball) (2.2.2)\n",
      "Requirement already satisfied: beautifulsoup4>=4.4.0 in c:\\users\\csusa\\anaconda3\\lib\\site-packages (from pybaseball) (4.12.3)\n",
      "Requirement already satisfied: requests>=2.18.1 in c:\\users\\csusa\\anaconda3\\lib\\site-packages (from pybaseball) (2.32.3)\n",
      "Requirement already satisfied: lxml>=4.2.1 in c:\\users\\csusa\\appdata\\roaming\\python\\python312\\site-packages (from pybaseball) (5.3.0)\n",
      "Requirement already satisfied: pyarrow>=1.0.1 in c:\\users\\csusa\\anaconda3\\lib\\site-packages (from pybaseball) (16.1.0)\n",
      "Requirement already satisfied: pygithub>=1.51 in c:\\users\\csusa\\anaconda3\\lib\\site-packages (from pybaseball) (2.5.0)\n",
      "Requirement already satisfied: scipy>=1.4.0 in c:\\users\\csusa\\anaconda3\\lib\\site-packages (from pybaseball) (1.13.1)\n",
      "Requirement already satisfied: matplotlib>=2.0.0 in c:\\users\\csusa\\anaconda3\\lib\\site-packages (from pybaseball) (3.9.2)\n",
      "Requirement already satisfied: tqdm>=4.50.0 in c:\\users\\csusa\\appdata\\roaming\\python\\python312\\site-packages (from pybaseball) (4.67.1)\n",
      "Requirement already satisfied: attrs>=20.3.0 in c:\\users\\csusa\\anaconda3\\lib\\site-packages (from pybaseball) (23.1.0)\n",
      "Requirement already satisfied: soupsieve>1.2 in c:\\users\\csusa\\anaconda3\\lib\\site-packages (from beautifulsoup4>=4.4.0->pybaseball) (2.5)\n",
      "Requirement already satisfied: contourpy>=1.0.1 in c:\\users\\csusa\\anaconda3\\lib\\site-packages (from matplotlib>=2.0.0->pybaseball) (1.2.0)\n",
      "Requirement already satisfied: cycler>=0.10 in c:\\users\\csusa\\anaconda3\\lib\\site-packages (from matplotlib>=2.0.0->pybaseball) (0.11.0)\n",
      "Requirement already satisfied: fonttools>=4.22.0 in c:\\users\\csusa\\anaconda3\\lib\\site-packages (from matplotlib>=2.0.0->pybaseball) (4.51.0)\n",
      "Requirement already satisfied: kiwisolver>=1.3.1 in c:\\users\\csusa\\anaconda3\\lib\\site-packages (from matplotlib>=2.0.0->pybaseball) (1.4.4)\n",
      "Requirement already satisfied: packaging>=20.0 in c:\\users\\csusa\\appdata\\roaming\\python\\python312\\site-packages (from matplotlib>=2.0.0->pybaseball) (24.2)\n",
      "Requirement already satisfied: pillow>=8 in c:\\users\\csusa\\anaconda3\\lib\\site-packages (from matplotlib>=2.0.0->pybaseball) (10.4.0)\n",
      "Requirement already satisfied: pyparsing>=2.3.1 in c:\\users\\csusa\\anaconda3\\lib\\site-packages (from matplotlib>=2.0.0->pybaseball) (3.1.2)\n",
      "Requirement already satisfied: python-dateutil>=2.7 in c:\\users\\csusa\\anaconda3\\lib\\site-packages (from matplotlib>=2.0.0->pybaseball) (2.9.0.post0)\n",
      "Requirement already satisfied: pytz>=2020.1 in c:\\users\\csusa\\anaconda3\\lib\\site-packages (from pandas>=1.0.3->pybaseball) (2024.1)\n",
      "Requirement already satisfied: tzdata>=2022.7 in c:\\users\\csusa\\anaconda3\\lib\\site-packages (from pandas>=1.0.3->pybaseball) (2023.3)\n",
      "Requirement already satisfied: pynacl>=1.4.0 in c:\\users\\csusa\\anaconda3\\lib\\site-packages (from pygithub>=1.51->pybaseball) (1.5.0)\n",
      "Requirement already satisfied: pyjwt>=2.4.0 in c:\\users\\csusa\\anaconda3\\lib\\site-packages (from pyjwt[crypto]>=2.4.0->pygithub>=1.51->pybaseball) (2.8.0)\n",
      "Requirement already satisfied: typing-extensions>=4.0.0 in c:\\users\\csusa\\appdata\\roaming\\python\\python312\\site-packages (from pygithub>=1.51->pybaseball) (4.12.2)\n",
      "Requirement already satisfied: urllib3>=1.26.0 in c:\\users\\csusa\\anaconda3\\lib\\site-packages (from pygithub>=1.51->pybaseball) (2.2.3)\n",
      "Requirement already satisfied: Deprecated in c:\\users\\csusa\\anaconda3\\lib\\site-packages (from pygithub>=1.51->pybaseball) (1.2.15)\n",
      "Requirement already satisfied: charset-normalizer<4,>=2 in c:\\users\\csusa\\anaconda3\\lib\\site-packages (from requests>=2.18.1->pybaseball) (3.3.2)\n",
      "Requirement already satisfied: idna<4,>=2.5 in c:\\users\\csusa\\anaconda3\\lib\\site-packages (from requests>=2.18.1->pybaseball) (3.7)\n",
      "Requirement already satisfied: certifi>=2017.4.17 in c:\\users\\csusa\\anaconda3\\lib\\site-packages (from requests>=2.18.1->pybaseball) (2024.12.14)\n",
      "Requirement already satisfied: colorama in c:\\users\\csusa\\appdata\\roaming\\python\\python312\\site-packages (from tqdm>=4.50.0->pybaseball) (0.4.6)\n",
      "Requirement already satisfied: cryptography>=3.4.0 in c:\\users\\csusa\\anaconda3\\lib\\site-packages (from pyjwt[crypto]>=2.4.0->pygithub>=1.51->pybaseball) (43.0.0)\n",
      "Requirement already satisfied: cffi>=1.4.1 in c:\\users\\csusa\\anaconda3\\lib\\site-packages (from pynacl>=1.4.0->pygithub>=1.51->pybaseball) (1.17.1)\n",
      "Requirement already satisfied: six>=1.5 in c:\\users\\csusa\\anaconda3\\lib\\site-packages (from python-dateutil>=2.7->matplotlib>=2.0.0->pybaseball) (1.16.0)\n",
      "Requirement already satisfied: wrapt<2,>=1.10 in c:\\users\\csusa\\anaconda3\\lib\\site-packages (from Deprecated->pygithub>=1.51->pybaseball) (1.14.1)\n",
      "Requirement already satisfied: pycparser in c:\\users\\csusa\\anaconda3\\lib\\site-packages (from cffi>=1.4.1->pynacl>=1.4.0->pygithub>=1.51->pybaseball) (2.21)\n"
     ]
    }
   ],
   "source": [
    "!pip install pybaseball"
   ]
  },
  {
   "cell_type": "code",
   "execution_count": 2,
   "id": "e6d3443c-21f8-4182-8731-4d171b862f83",
   "metadata": {
    "collapsed": true,
    "jupyter": {
     "outputs_hidden": true
    }
   },
   "outputs": [],
   "source": [
    "import pandas as pd\n",
    "import numpy as np\n",
    "import pybaseball as pyb"
   ]
  },
  {
   "cell_type": "code",
   "execution_count": 3,
   "id": "03de4102-872e-4bf3-a54a-9b5e28a16310",
   "metadata": {
    "collapsed": true,
    "jupyter": {
     "outputs_hidden": true
    }
   },
   "outputs": [
    {
     "name": "stdout",
     "output_type": "stream",
     "text": [
      "This is a large query, it may take a moment to complete\n"
     ]
    },
    {
     "name": "stderr",
     "output_type": "stream",
     "text": [
      "C:\\Users\\csusa\\anaconda3\\Lib\\site-packages\\pybaseball\\statcast.py:50: UserWarning: \n",
      "That's a nice request you got there. It'd be a shame if something were to happen to it.\n",
      "We strongly recommend that you enable caching before running this. It's as simple as `pybaseball.cache.enable()`.\n",
      "Since the Statcast requests can take a *really* long time to run, if something were to happen, like: a disconnect;\n",
      "gremlins; computer repair by associates of Rudy Giuliani; electromagnetic interference from metal trash cans; etc.;\n",
      "you could lose a lot of progress. Enabling caching will allow you to immediately recover all the successful\n",
      "subqueries if that happens.\n",
      "  warnings.warn(_OVERSIZE_WARNING)\n",
      "  0%|          | 0/62 [00:00<?, ?it/s]C:\\Users\\csusa\\anaconda3\\Lib\\site-packages\\pybaseball\\datahelpers\\postprocessing.py:59: FutureWarning: errors='ignore' is deprecated and will raise in a future version. Use to_datetime without passing `errors` and catch exceptions explicitly instead\n",
      "  data_copy[column] = data_copy[column].apply(pd.to_datetime, errors='ignore', format=date_format)\n",
      "  2%|▏         | 1/62 [00:00<00:34,  1.76it/s]C:\\Users\\csusa\\anaconda3\\Lib\\site-packages\\pybaseball\\datahelpers\\postprocessing.py:59: FutureWarning: errors='ignore' is deprecated and will raise in a future version. Use to_datetime without passing `errors` and catch exceptions explicitly instead\n",
      "  data_copy[column] = data_copy[column].apply(pd.to_datetime, errors='ignore', format=date_format)\n",
      "  3%|▎         | 2/62 [00:00<00:22,  2.62it/s]C:\\Users\\csusa\\anaconda3\\Lib\\site-packages\\pybaseball\\datahelpers\\postprocessing.py:59: FutureWarning: errors='ignore' is deprecated and will raise in a future version. Use to_datetime without passing `errors` and catch exceptions explicitly instead\n",
      "  data_copy[column] = data_copy[column].apply(pd.to_datetime, errors='ignore', format=date_format)\n",
      "C:\\Users\\csusa\\anaconda3\\Lib\\site-packages\\pybaseball\\datahelpers\\postprocessing.py:59: FutureWarning: errors='ignore' is deprecated and will raise in a future version. Use to_datetime without passing `errors` and catch exceptions explicitly instead\n",
      "  data_copy[column] = data_copy[column].apply(pd.to_datetime, errors='ignore', format=date_format)\n",
      "  5%|▍         | 3/62 [00:01<00:30,  1.91it/s]C:\\Users\\csusa\\anaconda3\\Lib\\site-packages\\pybaseball\\datahelpers\\postprocessing.py:59: FutureWarning: errors='ignore' is deprecated and will raise in a future version. Use to_datetime without passing `errors` and catch exceptions explicitly instead\n",
      "  data_copy[column] = data_copy[column].apply(pd.to_datetime, errors='ignore', format=date_format)\n",
      "C:\\Users\\csusa\\anaconda3\\Lib\\site-packages\\pybaseball\\datahelpers\\postprocessing.py:59: FutureWarning: errors='ignore' is deprecated and will raise in a future version. Use to_datetime without passing `errors` and catch exceptions explicitly instead\n",
      "  data_copy[column] = data_copy[column].apply(pd.to_datetime, errors='ignore', format=date_format)\n",
      "C:\\Users\\csusa\\anaconda3\\Lib\\site-packages\\pybaseball\\datahelpers\\postprocessing.py:59: FutureWarning: errors='ignore' is deprecated and will raise in a future version. Use to_datetime without passing `errors` and catch exceptions explicitly instead\n",
      "  data_copy[column] = data_copy[column].apply(pd.to_datetime, errors='ignore', format=date_format)\n",
      "C:\\Users\\csusa\\anaconda3\\Lib\\site-packages\\pybaseball\\datahelpers\\postprocessing.py:59: FutureWarning: errors='ignore' is deprecated and will raise in a future version. Use to_datetime without passing `errors` and catch exceptions explicitly instead\n",
      "  data_copy[column] = data_copy[column].apply(pd.to_datetime, errors='ignore', format=date_format)\n",
      "  6%|▋         | 4/62 [00:02<00:33,  1.72it/s]C:\\Users\\csusa\\anaconda3\\Lib\\site-packages\\pybaseball\\datahelpers\\postprocessing.py:59: FutureWarning: errors='ignore' is deprecated and will raise in a future version. Use to_datetime without passing `errors` and catch exceptions explicitly instead\n",
      "  data_copy[column] = data_copy[column].apply(pd.to_datetime, errors='ignore', format=date_format)\n",
      "C:\\Users\\csusa\\anaconda3\\Lib\\site-packages\\pybaseball\\datahelpers\\postprocessing.py:59: FutureWarning: errors='ignore' is deprecated and will raise in a future version. Use to_datetime without passing `errors` and catch exceptions explicitly instead\n",
      "  data_copy[column] = data_copy[column].apply(pd.to_datetime, errors='ignore', format=date_format)\n",
      "  8%|▊         | 5/62 [00:02<00:26,  2.12it/s]C:\\Users\\csusa\\anaconda3\\Lib\\site-packages\\pybaseball\\datahelpers\\postprocessing.py:59: FutureWarning: errors='ignore' is deprecated and will raise in a future version. Use to_datetime without passing `errors` and catch exceptions explicitly instead\n",
      "  data_copy[column] = data_copy[column].apply(pd.to_datetime, errors='ignore', format=date_format)\n",
      "C:\\Users\\csusa\\anaconda3\\Lib\\site-packages\\pybaseball\\datahelpers\\postprocessing.py:59: FutureWarning: errors='ignore' is deprecated and will raise in a future version. Use to_datetime without passing `errors` and catch exceptions explicitly instead\n",
      "  data_copy[column] = data_copy[column].apply(pd.to_datetime, errors='ignore', format=date_format)\n",
      "C:\\Users\\csusa\\anaconda3\\Lib\\site-packages\\pybaseball\\datahelpers\\postprocessing.py:59: FutureWarning: errors='ignore' is deprecated and will raise in a future version. Use to_datetime without passing `errors` and catch exceptions explicitly instead\n",
      "  data_copy[column] = data_copy[column].apply(pd.to_datetime, errors='ignore', format=date_format)\n",
      "C:\\Users\\csusa\\anaconda3\\Lib\\site-packages\\pybaseball\\datahelpers\\postprocessing.py:59: FutureWarning: errors='ignore' is deprecated and will raise in a future version. Use to_datetime without passing `errors` and catch exceptions explicitly instead\n",
      "  data_copy[column] = data_copy[column].apply(pd.to_datetime, errors='ignore', format=date_format)\n",
      "C:\\Users\\csusa\\anaconda3\\Lib\\site-packages\\pybaseball\\datahelpers\\postprocessing.py:59: FutureWarning: errors='ignore' is deprecated and will raise in a future version. Use to_datetime without passing `errors` and catch exceptions explicitly instead\n",
      "  data_copy[column] = data_copy[column].apply(pd.to_datetime, errors='ignore', format=date_format)\n",
      "C:\\Users\\csusa\\anaconda3\\Lib\\site-packages\\pybaseball\\datahelpers\\postprocessing.py:59: FutureWarning: errors='ignore' is deprecated and will raise in a future version. Use to_datetime without passing `errors` and catch exceptions explicitly instead\n",
      "  data_copy[column] = data_copy[column].apply(pd.to_datetime, errors='ignore', format=date_format)\n",
      "C:\\Users\\csusa\\anaconda3\\Lib\\site-packages\\pybaseball\\datahelpers\\postprocessing.py:59: FutureWarning: errors='ignore' is deprecated and will raise in a future version. Use to_datetime without passing `errors` and catch exceptions explicitly instead\n",
      "  data_copy[column] = data_copy[column].apply(pd.to_datetime, errors='ignore', format=date_format)\n",
      "C:\\Users\\csusa\\anaconda3\\Lib\\site-packages\\pybaseball\\datahelpers\\postprocessing.py:59: FutureWarning: errors='ignore' is deprecated and will raise in a future version. Use to_datetime without passing `errors` and catch exceptions explicitly instead\n",
      "  data_copy[column] = data_copy[column].apply(pd.to_datetime, errors='ignore', format=date_format)\n",
      "C:\\Users\\csusa\\anaconda3\\Lib\\site-packages\\pybaseball\\datahelpers\\postprocessing.py:59: FutureWarning: errors='ignore' is deprecated and will raise in a future version. Use to_datetime without passing `errors` and catch exceptions explicitly instead\n",
      "  data_copy[column] = data_copy[column].apply(pd.to_datetime, errors='ignore', format=date_format)\n",
      "C:\\Users\\csusa\\anaconda3\\Lib\\site-packages\\pybaseball\\datahelpers\\postprocessing.py:59: FutureWarning: errors='ignore' is deprecated and will raise in a future version. Use to_datetime without passing `errors` and catch exceptions explicitly instead\n",
      "  data_copy[column] = data_copy[column].apply(pd.to_datetime, errors='ignore', format=date_format)\n",
      "C:\\Users\\csusa\\anaconda3\\Lib\\site-packages\\pybaseball\\datahelpers\\postprocessing.py:59: FutureWarning: errors='ignore' is deprecated and will raise in a future version. Use to_datetime without passing `errors` and catch exceptions explicitly instead\n",
      "  data_copy[column] = data_copy[column].apply(pd.to_datetime, errors='ignore', format=date_format)\n",
      "C:\\Users\\csusa\\anaconda3\\Lib\\site-packages\\pybaseball\\datahelpers\\postprocessing.py:59: FutureWarning: errors='ignore' is deprecated and will raise in a future version. Use to_datetime without passing `errors` and catch exceptions explicitly instead\n",
      "  data_copy[column] = data_copy[column].apply(pd.to_datetime, errors='ignore', format=date_format)\n",
      "C:\\Users\\csusa\\anaconda3\\Lib\\site-packages\\pybaseball\\datahelpers\\postprocessing.py:59: FutureWarning: errors='ignore' is deprecated and will raise in a future version. Use to_datetime without passing `errors` and catch exceptions explicitly instead\n",
      "  data_copy[column] = data_copy[column].apply(pd.to_datetime, errors='ignore', format=date_format)\n",
      "C:\\Users\\csusa\\anaconda3\\Lib\\site-packages\\pybaseball\\datahelpers\\postprocessing.py:59: FutureWarning: errors='ignore' is deprecated and will raise in a future version. Use to_datetime without passing `errors` and catch exceptions explicitly instead\n",
      "  data_copy[column] = data_copy[column].apply(pd.to_datetime, errors='ignore', format=date_format)\n",
      "C:\\Users\\csusa\\anaconda3\\Lib\\site-packages\\pybaseball\\datahelpers\\postprocessing.py:59: FutureWarning: errors='ignore' is deprecated and will raise in a future version. Use to_datetime without passing `errors` and catch exceptions explicitly instead\n",
      "  data_copy[column] = data_copy[column].apply(pd.to_datetime, errors='ignore', format=date_format)\n",
      "C:\\Users\\csusa\\anaconda3\\Lib\\site-packages\\pybaseball\\datahelpers\\postprocessing.py:59: FutureWarning: errors='ignore' is deprecated and will raise in a future version. Use to_datetime without passing `errors` and catch exceptions explicitly instead\n",
      "  data_copy[column] = data_copy[column].apply(pd.to_datetime, errors='ignore', format=date_format)\n",
      "C:\\Users\\csusa\\anaconda3\\Lib\\site-packages\\pybaseball\\datahelpers\\postprocessing.py:59: FutureWarning: errors='ignore' is deprecated and will raise in a future version. Use to_datetime without passing `errors` and catch exceptions explicitly instead\n",
      "  data_copy[column] = data_copy[column].apply(pd.to_datetime, errors='ignore', format=date_format)\n",
      "C:\\Users\\csusa\\anaconda3\\Lib\\site-packages\\pybaseball\\datahelpers\\postprocessing.py:59: FutureWarning: errors='ignore' is deprecated and will raise in a future version. Use to_datetime without passing `errors` and catch exceptions explicitly instead\n",
      "  data_copy[column] = data_copy[column].apply(pd.to_datetime, errors='ignore', format=date_format)\n",
      " 10%|▉         | 6/62 [00:02<00:24,  2.28it/s]C:\\Users\\csusa\\anaconda3\\Lib\\site-packages\\pybaseball\\datahelpers\\postprocessing.py:59: FutureWarning: errors='ignore' is deprecated and will raise in a future version. Use to_datetime without passing `errors` and catch exceptions explicitly instead\n",
      "  data_copy[column] = data_copy[column].apply(pd.to_datetime, errors='ignore', format=date_format)\n",
      "C:\\Users\\csusa\\anaconda3\\Lib\\site-packages\\pybaseball\\datahelpers\\postprocessing.py:59: FutureWarning: errors='ignore' is deprecated and will raise in a future version. Use to_datetime without passing `errors` and catch exceptions explicitly instead\n",
      "  data_copy[column] = data_copy[column].apply(pd.to_datetime, errors='ignore', format=date_format)\n",
      "C:\\Users\\csusa\\anaconda3\\Lib\\site-packages\\pybaseball\\datahelpers\\postprocessing.py:59: FutureWarning: errors='ignore' is deprecated and will raise in a future version. Use to_datetime without passing `errors` and catch exceptions explicitly instead\n",
      "  data_copy[column] = data_copy[column].apply(pd.to_datetime, errors='ignore', format=date_format)\n",
      "C:\\Users\\csusa\\anaconda3\\Lib\\site-packages\\pybaseball\\datahelpers\\postprocessing.py:59: FutureWarning: errors='ignore' is deprecated and will raise in a future version. Use to_datetime without passing `errors` and catch exceptions explicitly instead\n",
      "  data_copy[column] = data_copy[column].apply(pd.to_datetime, errors='ignore', format=date_format)\n",
      "C:\\Users\\csusa\\anaconda3\\Lib\\site-packages\\pybaseball\\datahelpers\\postprocessing.py:59: FutureWarning: errors='ignore' is deprecated and will raise in a future version. Use to_datetime without passing `errors` and catch exceptions explicitly instead\n",
      "  data_copy[column] = data_copy[column].apply(pd.to_datetime, errors='ignore', format=date_format)\n",
      "C:\\Users\\csusa\\anaconda3\\Lib\\site-packages\\pybaseball\\datahelpers\\postprocessing.py:59: FutureWarning: errors='ignore' is deprecated and will raise in a future version. Use to_datetime without passing `errors` and catch exceptions explicitly instead\n",
      "  data_copy[column] = data_copy[column].apply(pd.to_datetime, errors='ignore', format=date_format)\n",
      " 11%|█▏        | 7/62 [00:07<01:44,  1.90s/it]C:\\Users\\csusa\\anaconda3\\Lib\\site-packages\\pybaseball\\datahelpers\\postprocessing.py:59: FutureWarning: errors='ignore' is deprecated and will raise in a future version. Use to_datetime without passing `errors` and catch exceptions explicitly instead\n",
      "  data_copy[column] = data_copy[column].apply(pd.to_datetime, errors='ignore', format=date_format)\n",
      "C:\\Users\\csusa\\anaconda3\\Lib\\site-packages\\pybaseball\\datahelpers\\postprocessing.py:59: FutureWarning: errors='ignore' is deprecated and will raise in a future version. Use to_datetime without passing `errors` and catch exceptions explicitly instead\n",
      "  data_copy[column] = data_copy[column].apply(pd.to_datetime, errors='ignore', format=date_format)\n",
      " 13%|█▎        | 8/62 [00:11<02:14,  2.50s/it]C:\\Users\\csusa\\anaconda3\\Lib\\site-packages\\pybaseball\\datahelpers\\postprocessing.py:59: FutureWarning: errors='ignore' is deprecated and will raise in a future version. Use to_datetime without passing `errors` and catch exceptions explicitly instead\n",
      "  data_copy[column] = data_copy[column].apply(pd.to_datetime, errors='ignore', format=date_format)\n",
      "C:\\Users\\csusa\\anaconda3\\Lib\\site-packages\\pybaseball\\datahelpers\\postprocessing.py:59: FutureWarning: errors='ignore' is deprecated and will raise in a future version. Use to_datetime without passing `errors` and catch exceptions explicitly instead\n",
      "  data_copy[column] = data_copy[column].apply(pd.to_datetime, errors='ignore', format=date_format)\n",
      " 15%|█▍        | 9/62 [00:12<01:43,  1.96s/it]C:\\Users\\csusa\\anaconda3\\Lib\\site-packages\\pybaseball\\datahelpers\\postprocessing.py:59: FutureWarning: errors='ignore' is deprecated and will raise in a future version. Use to_datetime without passing `errors` and catch exceptions explicitly instead\n",
      "  data_copy[column] = data_copy[column].apply(pd.to_datetime, errors='ignore', format=date_format)\n",
      "C:\\Users\\csusa\\anaconda3\\Lib\\site-packages\\pybaseball\\datahelpers\\postprocessing.py:59: FutureWarning: errors='ignore' is deprecated and will raise in a future version. Use to_datetime without passing `errors` and catch exceptions explicitly instead\n",
      "  data_copy[column] = data_copy[column].apply(pd.to_datetime, errors='ignore', format=date_format)\n",
      " 16%|█▌        | 10/62 [00:13<01:25,  1.65s/it]C:\\Users\\csusa\\anaconda3\\Lib\\site-packages\\pybaseball\\datahelpers\\postprocessing.py:59: FutureWarning: errors='ignore' is deprecated and will raise in a future version. Use to_datetime without passing `errors` and catch exceptions explicitly instead\n",
      "  data_copy[column] = data_copy[column].apply(pd.to_datetime, errors='ignore', format=date_format)\n",
      "C:\\Users\\csusa\\anaconda3\\Lib\\site-packages\\pybaseball\\datahelpers\\postprocessing.py:59: FutureWarning: errors='ignore' is deprecated and will raise in a future version. Use to_datetime without passing `errors` and catch exceptions explicitly instead\n",
      "  data_copy[column] = data_copy[column].apply(pd.to_datetime, errors='ignore', format=date_format)\n",
      " 18%|█▊        | 11/62 [00:14<01:13,  1.44s/it]C:\\Users\\csusa\\anaconda3\\Lib\\site-packages\\pybaseball\\datahelpers\\postprocessing.py:59: FutureWarning: errors='ignore' is deprecated and will raise in a future version. Use to_datetime without passing `errors` and catch exceptions explicitly instead\n",
      "  data_copy[column] = data_copy[column].apply(pd.to_datetime, errors='ignore', format=date_format)\n",
      "C:\\Users\\csusa\\anaconda3\\Lib\\site-packages\\pybaseball\\datahelpers\\postprocessing.py:59: FutureWarning: errors='ignore' is deprecated and will raise in a future version. Use to_datetime without passing `errors` and catch exceptions explicitly instead\n",
      "  data_copy[column] = data_copy[column].apply(pd.to_datetime, errors='ignore', format=date_format)\n",
      "C:\\Users\\csusa\\anaconda3\\Lib\\site-packages\\pybaseball\\datahelpers\\postprocessing.py:59: FutureWarning: errors='ignore' is deprecated and will raise in a future version. Use to_datetime without passing `errors` and catch exceptions explicitly instead\n",
      "  data_copy[column] = data_copy[column].apply(pd.to_datetime, errors='ignore', format=date_format)\n",
      "C:\\Users\\csusa\\anaconda3\\Lib\\site-packages\\pybaseball\\datahelpers\\postprocessing.py:59: FutureWarning: errors='ignore' is deprecated and will raise in a future version. Use to_datetime without passing `errors` and catch exceptions explicitly instead\n",
      "  data_copy[column] = data_copy[column].apply(pd.to_datetime, errors='ignore', format=date_format)\n",
      " 21%|██        | 13/62 [00:15<00:46,  1.05it/s]C:\\Users\\csusa\\anaconda3\\Lib\\site-packages\\pybaseball\\datahelpers\\postprocessing.py:59: FutureWarning: errors='ignore' is deprecated and will raise in a future version. Use to_datetime without passing `errors` and catch exceptions explicitly instead\n",
      "  data_copy[column] = data_copy[column].apply(pd.to_datetime, errors='ignore', format=date_format)\n",
      "C:\\Users\\csusa\\anaconda3\\Lib\\site-packages\\pybaseball\\datahelpers\\postprocessing.py:59: FutureWarning: errors='ignore' is deprecated and will raise in a future version. Use to_datetime without passing `errors` and catch exceptions explicitly instead\n",
      "  data_copy[column] = data_copy[column].apply(pd.to_datetime, errors='ignore', format=date_format)\n",
      "C:\\Users\\csusa\\anaconda3\\Lib\\site-packages\\pybaseball\\datahelpers\\postprocessing.py:59: FutureWarning: errors='ignore' is deprecated and will raise in a future version. Use to_datetime without passing `errors` and catch exceptions explicitly instead\n",
      "  data_copy[column] = data_copy[column].apply(pd.to_datetime, errors='ignore', format=date_format)\n",
      "C:\\Users\\csusa\\anaconda3\\Lib\\site-packages\\pybaseball\\datahelpers\\postprocessing.py:59: FutureWarning: errors='ignore' is deprecated and will raise in a future version. Use to_datetime without passing `errors` and catch exceptions explicitly instead\n",
      "  data_copy[column] = data_copy[column].apply(pd.to_datetime, errors='ignore', format=date_format)\n",
      " 27%|██▋       | 17/62 [00:15<00:21,  2.11it/s]C:\\Users\\csusa\\anaconda3\\Lib\\site-packages\\pybaseball\\datahelpers\\postprocessing.py:59: FutureWarning: errors='ignore' is deprecated and will raise in a future version. Use to_datetime without passing `errors` and catch exceptions explicitly instead\n",
      "  data_copy[column] = data_copy[column].apply(pd.to_datetime, errors='ignore', format=date_format)\n",
      " 29%|██▉       | 18/62 [00:16<00:18,  2.37it/s]C:\\Users\\csusa\\anaconda3\\Lib\\site-packages\\pybaseball\\datahelpers\\postprocessing.py:59: FutureWarning: errors='ignore' is deprecated and will raise in a future version. Use to_datetime without passing `errors` and catch exceptions explicitly instead\n",
      "  data_copy[column] = data_copy[column].apply(pd.to_datetime, errors='ignore', format=date_format)\n",
      "C:\\Users\\csusa\\anaconda3\\Lib\\site-packages\\pybaseball\\datahelpers\\postprocessing.py:59: FutureWarning: errors='ignore' is deprecated and will raise in a future version. Use to_datetime without passing `errors` and catch exceptions explicitly instead\n",
      "  data_copy[column] = data_copy[column].apply(pd.to_datetime, errors='ignore', format=date_format)\n",
      " 31%|███       | 19/62 [00:16<00:15,  2.83it/s]C:\\Users\\csusa\\anaconda3\\Lib\\site-packages\\pybaseball\\datahelpers\\postprocessing.py:59: FutureWarning: errors='ignore' is deprecated and will raise in a future version. Use to_datetime without passing `errors` and catch exceptions explicitly instead\n",
      "  data_copy[column] = data_copy[column].apply(pd.to_datetime, errors='ignore', format=date_format)\n",
      "C:\\Users\\csusa\\anaconda3\\Lib\\site-packages\\pybaseball\\datahelpers\\postprocessing.py:59: FutureWarning: errors='ignore' is deprecated and will raise in a future version. Use to_datetime without passing `errors` and catch exceptions explicitly instead\n",
      "  data_copy[column] = data_copy[column].apply(pd.to_datetime, errors='ignore', format=date_format)\n",
      "C:\\Users\\csusa\\anaconda3\\Lib\\site-packages\\pybaseball\\datahelpers\\postprocessing.py:59: FutureWarning: errors='ignore' is deprecated and will raise in a future version. Use to_datetime without passing `errors` and catch exceptions explicitly instead\n",
      "  data_copy[column] = data_copy[column].apply(pd.to_datetime, errors='ignore', format=date_format)\n",
      "C:\\Users\\csusa\\anaconda3\\Lib\\site-packages\\pybaseball\\datahelpers\\postprocessing.py:59: FutureWarning: errors='ignore' is deprecated and will raise in a future version. Use to_datetime without passing `errors` and catch exceptions explicitly instead\n",
      "  data_copy[column] = data_copy[column].apply(pd.to_datetime, errors='ignore', format=date_format)\n",
      "C:\\Users\\csusa\\anaconda3\\Lib\\site-packages\\pybaseball\\datahelpers\\postprocessing.py:59: FutureWarning: errors='ignore' is deprecated and will raise in a future version. Use to_datetime without passing `errors` and catch exceptions explicitly instead\n",
      "  data_copy[column] = data_copy[column].apply(pd.to_datetime, errors='ignore', format=date_format)\n",
      " 32%|███▏      | 20/62 [00:16<00:14,  2.97it/s]C:\\Users\\csusa\\anaconda3\\Lib\\site-packages\\pybaseball\\datahelpers\\postprocessing.py:59: FutureWarning: errors='ignore' is deprecated and will raise in a future version. Use to_datetime without passing `errors` and catch exceptions explicitly instead\n",
      "  data_copy[column] = data_copy[column].apply(pd.to_datetime, errors='ignore', format=date_format)\n",
      "C:\\Users\\csusa\\anaconda3\\Lib\\site-packages\\pybaseball\\datahelpers\\postprocessing.py:59: FutureWarning: errors='ignore' is deprecated and will raise in a future version. Use to_datetime without passing `errors` and catch exceptions explicitly instead\n",
      "  data_copy[column] = data_copy[column].apply(pd.to_datetime, errors='ignore', format=date_format)\n",
      "C:\\Users\\csusa\\anaconda3\\Lib\\site-packages\\pybaseball\\datahelpers\\postprocessing.py:59: FutureWarning: errors='ignore' is deprecated and will raise in a future version. Use to_datetime without passing `errors` and catch exceptions explicitly instead\n",
      "  data_copy[column] = data_copy[column].apply(pd.to_datetime, errors='ignore', format=date_format)\n",
      "C:\\Users\\csusa\\anaconda3\\Lib\\site-packages\\pybaseball\\datahelpers\\postprocessing.py:59: FutureWarning: errors='ignore' is deprecated and will raise in a future version. Use to_datetime without passing `errors` and catch exceptions explicitly instead\n",
      "  data_copy[column] = data_copy[column].apply(pd.to_datetime, errors='ignore', format=date_format)\n",
      "C:\\Users\\csusa\\anaconda3\\Lib\\site-packages\\pybaseball\\datahelpers\\postprocessing.py:59: FutureWarning: errors='ignore' is deprecated and will raise in a future version. Use to_datetime without passing `errors` and catch exceptions explicitly instead\n",
      "  data_copy[column] = data_copy[column].apply(pd.to_datetime, errors='ignore', format=date_format)\n",
      "C:\\Users\\csusa\\anaconda3\\Lib\\site-packages\\pybaseball\\datahelpers\\postprocessing.py:59: FutureWarning: errors='ignore' is deprecated and will raise in a future version. Use to_datetime without passing `errors` and catch exceptions explicitly instead\n",
      "  data_copy[column] = data_copy[column].apply(pd.to_datetime, errors='ignore', format=date_format)\n",
      " 35%|███▌      | 22/62 [00:16<00:12,  3.22it/s]C:\\Users\\csusa\\anaconda3\\Lib\\site-packages\\pybaseball\\datahelpers\\postprocessing.py:59: FutureWarning: errors='ignore' is deprecated and will raise in a future version. Use to_datetime without passing `errors` and catch exceptions explicitly instead\n",
      "  data_copy[column] = data_copy[column].apply(pd.to_datetime, errors='ignore', format=date_format)\n",
      "C:\\Users\\csusa\\anaconda3\\Lib\\site-packages\\pybaseball\\datahelpers\\postprocessing.py:59: FutureWarning: errors='ignore' is deprecated and will raise in a future version. Use to_datetime without passing `errors` and catch exceptions explicitly instead\n",
      "  data_copy[column] = data_copy[column].apply(pd.to_datetime, errors='ignore', format=date_format)\n",
      " 37%|███▋      | 23/62 [00:20<00:39,  1.02s/it]C:\\Users\\csusa\\anaconda3\\Lib\\site-packages\\pybaseball\\datahelpers\\postprocessing.py:59: FutureWarning: errors='ignore' is deprecated and will raise in a future version. Use to_datetime without passing `errors` and catch exceptions explicitly instead\n",
      "  data_copy[column] = data_copy[column].apply(pd.to_datetime, errors='ignore', format=date_format)\n",
      "C:\\Users\\csusa\\anaconda3\\Lib\\site-packages\\pybaseball\\datahelpers\\postprocessing.py:59: FutureWarning: errors='ignore' is deprecated and will raise in a future version. Use to_datetime without passing `errors` and catch exceptions explicitly instead\n",
      "  data_copy[column] = data_copy[column].apply(pd.to_datetime, errors='ignore', format=date_format)\n",
      " 39%|███▊      | 24/62 [00:21<00:42,  1.13s/it]C:\\Users\\csusa\\anaconda3\\Lib\\site-packages\\pybaseball\\datahelpers\\postprocessing.py:59: FutureWarning: errors='ignore' is deprecated and will raise in a future version. Use to_datetime without passing `errors` and catch exceptions explicitly instead\n",
      "  data_copy[column] = data_copy[column].apply(pd.to_datetime, errors='ignore', format=date_format)\n",
      "C:\\Users\\csusa\\anaconda3\\Lib\\site-packages\\pybaseball\\datahelpers\\postprocessing.py:59: FutureWarning: errors='ignore' is deprecated and will raise in a future version. Use to_datetime without passing `errors` and catch exceptions explicitly instead\n",
      "  data_copy[column] = data_copy[column].apply(pd.to_datetime, errors='ignore', format=date_format)\n",
      " 40%|████      | 25/62 [00:22<00:40,  1.09s/it]C:\\Users\\csusa\\anaconda3\\Lib\\site-packages\\pybaseball\\datahelpers\\postprocessing.py:59: FutureWarning: errors='ignore' is deprecated and will raise in a future version. Use to_datetime without passing `errors` and catch exceptions explicitly instead\n",
      "  data_copy[column] = data_copy[column].apply(pd.to_datetime, errors='ignore', format=date_format)\n",
      "C:\\Users\\csusa\\anaconda3\\Lib\\site-packages\\pybaseball\\datahelpers\\postprocessing.py:59: FutureWarning: errors='ignore' is deprecated and will raise in a future version. Use to_datetime without passing `errors` and catch exceptions explicitly instead\n",
      "  data_copy[column] = data_copy[column].apply(pd.to_datetime, errors='ignore', format=date_format)\n",
      " 42%|████▏     | 26/62 [00:23<00:32,  1.10it/s]C:\\Users\\csusa\\anaconda3\\Lib\\site-packages\\pybaseball\\datahelpers\\postprocessing.py:59: FutureWarning: errors='ignore' is deprecated and will raise in a future version. Use to_datetime without passing `errors` and catch exceptions explicitly instead\n",
      "  data_copy[column] = data_copy[column].apply(pd.to_datetime, errors='ignore', format=date_format)\n",
      "C:\\Users\\csusa\\anaconda3\\Lib\\site-packages\\pybaseball\\datahelpers\\postprocessing.py:59: FutureWarning: errors='ignore' is deprecated and will raise in a future version. Use to_datetime without passing `errors` and catch exceptions explicitly instead\n",
      "  data_copy[column] = data_copy[column].apply(pd.to_datetime, errors='ignore', format=date_format)\n",
      " 44%|████▎     | 27/62 [00:23<00:28,  1.24it/s]C:\\Users\\csusa\\anaconda3\\Lib\\site-packages\\pybaseball\\datahelpers\\postprocessing.py:59: FutureWarning: errors='ignore' is deprecated and will raise in a future version. Use to_datetime without passing `errors` and catch exceptions explicitly instead\n",
      "  data_copy[column] = data_copy[column].apply(pd.to_datetime, errors='ignore', format=date_format)\n",
      "C:\\Users\\csusa\\anaconda3\\Lib\\site-packages\\pybaseball\\datahelpers\\postprocessing.py:59: FutureWarning: errors='ignore' is deprecated and will raise in a future version. Use to_datetime without passing `errors` and catch exceptions explicitly instead\n",
      "  data_copy[column] = data_copy[column].apply(pd.to_datetime, errors='ignore', format=date_format)\n",
      " 45%|████▌     | 28/62 [00:24<00:28,  1.20it/s]C:\\Users\\csusa\\anaconda3\\Lib\\site-packages\\pybaseball\\datahelpers\\postprocessing.py:59: FutureWarning: errors='ignore' is deprecated and will raise in a future version. Use to_datetime without passing `errors` and catch exceptions explicitly instead\n",
      "  data_copy[column] = data_copy[column].apply(pd.to_datetime, errors='ignore', format=date_format)\n",
      "C:\\Users\\csusa\\anaconda3\\Lib\\site-packages\\pybaseball\\datahelpers\\postprocessing.py:59: FutureWarning: errors='ignore' is deprecated and will raise in a future version. Use to_datetime without passing `errors` and catch exceptions explicitly instead\n",
      "  data_copy[column] = data_copy[column].apply(pd.to_datetime, errors='ignore', format=date_format)\n",
      " 48%|████▊     | 30/62 [00:25<00:23,  1.37it/s]C:\\Users\\csusa\\anaconda3\\Lib\\site-packages\\pybaseball\\datahelpers\\postprocessing.py:59: FutureWarning: errors='ignore' is deprecated and will raise in a future version. Use to_datetime without passing `errors` and catch exceptions explicitly instead\n",
      "  data_copy[column] = data_copy[column].apply(pd.to_datetime, errors='ignore', format=date_format)\n",
      "C:\\Users\\csusa\\anaconda3\\Lib\\site-packages\\pybaseball\\datahelpers\\postprocessing.py:59: FutureWarning: errors='ignore' is deprecated and will raise in a future version. Use to_datetime without passing `errors` and catch exceptions explicitly instead\n",
      "  data_copy[column] = data_copy[column].apply(pd.to_datetime, errors='ignore', format=date_format)\n",
      " 50%|█████     | 31/62 [00:26<00:19,  1.63it/s]C:\\Users\\csusa\\anaconda3\\Lib\\site-packages\\pybaseball\\datahelpers\\postprocessing.py:59: FutureWarning: errors='ignore' is deprecated and will raise in a future version. Use to_datetime without passing `errors` and catch exceptions explicitly instead\n",
      "  data_copy[column] = data_copy[column].apply(pd.to_datetime, errors='ignore', format=date_format)\n",
      "C:\\Users\\csusa\\anaconda3\\Lib\\site-packages\\pybaseball\\datahelpers\\postprocessing.py:59: FutureWarning: errors='ignore' is deprecated and will raise in a future version. Use to_datetime without passing `errors` and catch exceptions explicitly instead\n",
      "  data_copy[column] = data_copy[column].apply(pd.to_datetime, errors='ignore', format=date_format)\n",
      " 52%|█████▏    | 32/62 [00:28<00:28,  1.04it/s]C:\\Users\\csusa\\anaconda3\\Lib\\site-packages\\pybaseball\\datahelpers\\postprocessing.py:59: FutureWarning: errors='ignore' is deprecated and will raise in a future version. Use to_datetime without passing `errors` and catch exceptions explicitly instead\n",
      "  data_copy[column] = data_copy[column].apply(pd.to_datetime, errors='ignore', format=date_format)\n",
      "C:\\Users\\csusa\\anaconda3\\Lib\\site-packages\\pybaseball\\datahelpers\\postprocessing.py:59: FutureWarning: errors='ignore' is deprecated and will raise in a future version. Use to_datetime without passing `errors` and catch exceptions explicitly instead\n",
      "  data_copy[column] = data_copy[column].apply(pd.to_datetime, errors='ignore', format=date_format)\n",
      " 53%|█████▎    | 33/62 [00:28<00:25,  1.14it/s]C:\\Users\\csusa\\anaconda3\\Lib\\site-packages\\pybaseball\\datahelpers\\postprocessing.py:59: FutureWarning: errors='ignore' is deprecated and will raise in a future version. Use to_datetime without passing `errors` and catch exceptions explicitly instead\n",
      "  data_copy[column] = data_copy[column].apply(pd.to_datetime, errors='ignore', format=date_format)\n",
      "C:\\Users\\csusa\\anaconda3\\Lib\\site-packages\\pybaseball\\datahelpers\\postprocessing.py:59: FutureWarning: errors='ignore' is deprecated and will raise in a future version. Use to_datetime without passing `errors` and catch exceptions explicitly instead\n",
      "  data_copy[column] = data_copy[column].apply(pd.to_datetime, errors='ignore', format=date_format)\n",
      " 55%|█████▍    | 34/62 [00:29<00:19,  1.40it/s]C:\\Users\\csusa\\anaconda3\\Lib\\site-packages\\pybaseball\\datahelpers\\postprocessing.py:59: FutureWarning: errors='ignore' is deprecated and will raise in a future version. Use to_datetime without passing `errors` and catch exceptions explicitly instead\n",
      "  data_copy[column] = data_copy[column].apply(pd.to_datetime, errors='ignore', format=date_format)\n",
      "C:\\Users\\csusa\\anaconda3\\Lib\\site-packages\\pybaseball\\datahelpers\\postprocessing.py:59: FutureWarning: errors='ignore' is deprecated and will raise in a future version. Use to_datetime without passing `errors` and catch exceptions explicitly instead\n",
      "  data_copy[column] = data_copy[column].apply(pd.to_datetime, errors='ignore', format=date_format)\n",
      "C:\\Users\\csusa\\anaconda3\\Lib\\site-packages\\pybaseball\\datahelpers\\postprocessing.py:59: FutureWarning: errors='ignore' is deprecated and will raise in a future version. Use to_datetime without passing `errors` and catch exceptions explicitly instead\n",
      "  data_copy[column] = data_copy[column].apply(pd.to_datetime, errors='ignore', format=date_format)\n",
      "C:\\Users\\csusa\\anaconda3\\Lib\\site-packages\\pybaseball\\datahelpers\\postprocessing.py:59: FutureWarning: errors='ignore' is deprecated and will raise in a future version. Use to_datetime without passing `errors` and catch exceptions explicitly instead\n",
      "  data_copy[column] = data_copy[column].apply(pd.to_datetime, errors='ignore', format=date_format)\n",
      " 58%|█████▊    | 36/62 [00:30<00:16,  1.61it/s]C:\\Users\\csusa\\anaconda3\\Lib\\site-packages\\pybaseball\\datahelpers\\postprocessing.py:59: FutureWarning: errors='ignore' is deprecated and will raise in a future version. Use to_datetime without passing `errors` and catch exceptions explicitly instead\n",
      "  data_copy[column] = data_copy[column].apply(pd.to_datetime, errors='ignore', format=date_format)\n",
      "C:\\Users\\csusa\\anaconda3\\Lib\\site-packages\\pybaseball\\datahelpers\\postprocessing.py:59: FutureWarning: errors='ignore' is deprecated and will raise in a future version. Use to_datetime without passing `errors` and catch exceptions explicitly instead\n",
      "  data_copy[column] = data_copy[column].apply(pd.to_datetime, errors='ignore', format=date_format)\n",
      " 60%|█████▉    | 37/62 [00:30<00:14,  1.69it/s]C:\\Users\\csusa\\anaconda3\\Lib\\site-packages\\pybaseball\\datahelpers\\postprocessing.py:59: FutureWarning: errors='ignore' is deprecated and will raise in a future version. Use to_datetime without passing `errors` and catch exceptions explicitly instead\n",
      "  data_copy[column] = data_copy[column].apply(pd.to_datetime, errors='ignore', format=date_format)\n",
      "C:\\Users\\csusa\\anaconda3\\Lib\\site-packages\\pybaseball\\datahelpers\\postprocessing.py:59: FutureWarning: errors='ignore' is deprecated and will raise in a future version. Use to_datetime without passing `errors` and catch exceptions explicitly instead\n",
      "  data_copy[column] = data_copy[column].apply(pd.to_datetime, errors='ignore', format=date_format)\n",
      " 63%|██████▎   | 39/62 [00:31<00:10,  2.23it/s]C:\\Users\\csusa\\anaconda3\\Lib\\site-packages\\pybaseball\\datahelpers\\postprocessing.py:59: FutureWarning: errors='ignore' is deprecated and will raise in a future version. Use to_datetime without passing `errors` and catch exceptions explicitly instead\n",
      "  data_copy[column] = data_copy[column].apply(pd.to_datetime, errors='ignore', format=date_format)\n",
      "C:\\Users\\csusa\\anaconda3\\Lib\\site-packages\\pybaseball\\datahelpers\\postprocessing.py:59: FutureWarning: errors='ignore' is deprecated and will raise in a future version. Use to_datetime without passing `errors` and catch exceptions explicitly instead\n",
      "  data_copy[column] = data_copy[column].apply(pd.to_datetime, errors='ignore', format=date_format)\n",
      "C:\\Users\\csusa\\anaconda3\\Lib\\site-packages\\pybaseball\\datahelpers\\postprocessing.py:59: FutureWarning: errors='ignore' is deprecated and will raise in a future version. Use to_datetime without passing `errors` and catch exceptions explicitly instead\n",
      "  data_copy[column] = data_copy[column].apply(pd.to_datetime, errors='ignore', format=date_format)\n",
      "C:\\Users\\csusa\\anaconda3\\Lib\\site-packages\\pybaseball\\datahelpers\\postprocessing.py:59: FutureWarning: errors='ignore' is deprecated and will raise in a future version. Use to_datetime without passing `errors` and catch exceptions explicitly instead\n",
      "  data_copy[column] = data_copy[column].apply(pd.to_datetime, errors='ignore', format=date_format)\n",
      " 65%|██████▍   | 40/62 [00:32<00:13,  1.68it/s]C:\\Users\\csusa\\anaconda3\\Lib\\site-packages\\pybaseball\\datahelpers\\postprocessing.py:59: FutureWarning: errors='ignore' is deprecated and will raise in a future version. Use to_datetime without passing `errors` and catch exceptions explicitly instead\n",
      "  data_copy[column] = data_copy[column].apply(pd.to_datetime, errors='ignore', format=date_format)\n",
      "C:\\Users\\csusa\\anaconda3\\Lib\\site-packages\\pybaseball\\datahelpers\\postprocessing.py:59: FutureWarning: errors='ignore' is deprecated and will raise in a future version. Use to_datetime without passing `errors` and catch exceptions explicitly instead\n",
      "  data_copy[column] = data_copy[column].apply(pd.to_datetime, errors='ignore', format=date_format)\n",
      " 66%|██████▌   | 41/62 [00:33<00:16,  1.27it/s]C:\\Users\\csusa\\anaconda3\\Lib\\site-packages\\pybaseball\\datahelpers\\postprocessing.py:59: FutureWarning: errors='ignore' is deprecated and will raise in a future version. Use to_datetime without passing `errors` and catch exceptions explicitly instead\n",
      "  data_copy[column] = data_copy[column].apply(pd.to_datetime, errors='ignore', format=date_format)\n",
      "C:\\Users\\csusa\\anaconda3\\Lib\\site-packages\\pybaseball\\datahelpers\\postprocessing.py:59: FutureWarning: errors='ignore' is deprecated and will raise in a future version. Use to_datetime without passing `errors` and catch exceptions explicitly instead\n",
      "  data_copy[column] = data_copy[column].apply(pd.to_datetime, errors='ignore', format=date_format)\n",
      " 68%|██████▊   | 42/62 [00:35<00:22,  1.13s/it]C:\\Users\\csusa\\anaconda3\\Lib\\site-packages\\pybaseball\\datahelpers\\postprocessing.py:59: FutureWarning: errors='ignore' is deprecated and will raise in a future version. Use to_datetime without passing `errors` and catch exceptions explicitly instead\n",
      "  data_copy[column] = data_copy[column].apply(pd.to_datetime, errors='ignore', format=date_format)\n",
      "C:\\Users\\csusa\\anaconda3\\Lib\\site-packages\\pybaseball\\datahelpers\\postprocessing.py:59: FutureWarning: errors='ignore' is deprecated and will raise in a future version. Use to_datetime without passing `errors` and catch exceptions explicitly instead\n",
      "  data_copy[column] = data_copy[column].apply(pd.to_datetime, errors='ignore', format=date_format)\n",
      "C:\\Users\\csusa\\anaconda3\\Lib\\site-packages\\pybaseball\\datahelpers\\postprocessing.py:59: FutureWarning: errors='ignore' is deprecated and will raise in a future version. Use to_datetime without passing `errors` and catch exceptions explicitly instead\n",
      "  data_copy[column] = data_copy[column].apply(pd.to_datetime, errors='ignore', format=date_format)\n",
      "C:\\Users\\csusa\\anaconda3\\Lib\\site-packages\\pybaseball\\datahelpers\\postprocessing.py:59: FutureWarning: errors='ignore' is deprecated and will raise in a future version. Use to_datetime without passing `errors` and catch exceptions explicitly instead\n",
      "  data_copy[column] = data_copy[column].apply(pd.to_datetime, errors='ignore', format=date_format)\n",
      " 69%|██████▉   | 43/62 [00:36<00:19,  1.04s/it]C:\\Users\\csusa\\anaconda3\\Lib\\site-packages\\pybaseball\\datahelpers\\postprocessing.py:59: FutureWarning: errors='ignore' is deprecated and will raise in a future version. Use to_datetime without passing `errors` and catch exceptions explicitly instead\n",
      "  data_copy[column] = data_copy[column].apply(pd.to_datetime, errors='ignore', format=date_format)\n",
      "C:\\Users\\csusa\\anaconda3\\Lib\\site-packages\\pybaseball\\datahelpers\\postprocessing.py:59: FutureWarning: errors='ignore' is deprecated and will raise in a future version. Use to_datetime without passing `errors` and catch exceptions explicitly instead\n",
      "  data_copy[column] = data_copy[column].apply(pd.to_datetime, errors='ignore', format=date_format)\n",
      " 71%|███████   | 44/62 [00:37<00:19,  1.06s/it]C:\\Users\\csusa\\anaconda3\\Lib\\site-packages\\pybaseball\\datahelpers\\postprocessing.py:59: FutureWarning: errors='ignore' is deprecated and will raise in a future version. Use to_datetime without passing `errors` and catch exceptions explicitly instead\n",
      "  data_copy[column] = data_copy[column].apply(pd.to_datetime, errors='ignore', format=date_format)\n",
      "C:\\Users\\csusa\\anaconda3\\Lib\\site-packages\\pybaseball\\datahelpers\\postprocessing.py:59: FutureWarning: errors='ignore' is deprecated and will raise in a future version. Use to_datetime without passing `errors` and catch exceptions explicitly instead\n",
      "  data_copy[column] = data_copy[column].apply(pd.to_datetime, errors='ignore', format=date_format)\n",
      " 73%|███████▎  | 45/62 [00:38<00:18,  1.09s/it]C:\\Users\\csusa\\anaconda3\\Lib\\site-packages\\pybaseball\\datahelpers\\postprocessing.py:59: FutureWarning: errors='ignore' is deprecated and will raise in a future version. Use to_datetime without passing `errors` and catch exceptions explicitly instead\n",
      "  data_copy[column] = data_copy[column].apply(pd.to_datetime, errors='ignore', format=date_format)\n",
      "C:\\Users\\csusa\\anaconda3\\Lib\\site-packages\\pybaseball\\datahelpers\\postprocessing.py:59: FutureWarning: errors='ignore' is deprecated and will raise in a future version. Use to_datetime without passing `errors` and catch exceptions explicitly instead\n",
      "  data_copy[column] = data_copy[column].apply(pd.to_datetime, errors='ignore', format=date_format)\n",
      " 74%|███████▍  | 46/62 [00:39<00:14,  1.08it/s]C:\\Users\\csusa\\anaconda3\\Lib\\site-packages\\pybaseball\\datahelpers\\postprocessing.py:59: FutureWarning: errors='ignore' is deprecated and will raise in a future version. Use to_datetime without passing `errors` and catch exceptions explicitly instead\n",
      "  data_copy[column] = data_copy[column].apply(pd.to_datetime, errors='ignore', format=date_format)\n",
      "C:\\Users\\csusa\\anaconda3\\Lib\\site-packages\\pybaseball\\datahelpers\\postprocessing.py:59: FutureWarning: errors='ignore' is deprecated and will raise in a future version. Use to_datetime without passing `errors` and catch exceptions explicitly instead\n",
      "  data_copy[column] = data_copy[column].apply(pd.to_datetime, errors='ignore', format=date_format)\n",
      "100%|██████████| 62/62 [00:45<00:00,  1.36it/s]\n"
     ]
    }
   ],
   "source": [
    "statcast_data = pyb.statcast(start_dt='2022-04-07', end_dt='2022-06-07') #pull statcast data into a data frame.\n",
    "#create new data frame using only relevant stats\n",
    "data = statcast_data[['stand', 'launch_angle', 'launch_speed', 'hc_x', 'hc_y', 'events']].dropna() \n",
    "data['ba'] = 0 # new column for batting average\n",
    "data.loc[data['events'].isin(['single', 'double', 'triple', 'home_run']), 'ba'] = 1.0\n",
    "data = data[~data['events'].isin(['sac_fly', 'sac_bunt', 'field_error'])] \n"
   ]
  },
  {
   "cell_type": "code",
   "execution_count": 4,
   "id": "61675d96-e63e-40ad-aee2-ac60adcdbe09",
   "metadata": {
    "collapsed": true,
    "jupyter": {
     "outputs_hidden": true
    }
   },
   "outputs": [],
   "source": [
    "#hc_x and hc_y represent the location where the batted ball was fielded. \n",
    "\n",
    "data.hc_x = (data.hc_x - 125.42)\n",
    "data.hc_y = (198.27 - data.hc_y)\n",
    "spray_angle = np.round(np.arctan(data.hc_x / data.hc_y) * 180 / np.pi * 0.75)\n",
    "spray_angle[data['stand'] == 'L'] *= -1 # spray angle is dependent on the hitter's handedness\n",
    "data['spray_angle'] = spray_angle"
   ]
  },
  {
   "cell_type": "code",
   "execution_count": 5,
   "id": "75572b49-2c42-4b46-b060-da452a00b4bb",
   "metadata": {
    "collapsed": true,
    "jupyter": {
     "outputs_hidden": true
    }
   },
   "outputs": [],
   "source": [
    "from sklearn.model_selection import train_test_split"
   ]
  },
  {
   "cell_type": "code",
   "execution_count": 6,
   "id": "b2e09443-9c9f-4270-9790-49fa99d2e677",
   "metadata": {
    "collapsed": true,
    "jupyter": {
     "outputs_hidden": true
    }
   },
   "outputs": [
    {
     "name": "stdout",
     "output_type": "stream",
     "text": [
      "      stand  launch_angle  launch_speed  ba  spray_angle\n",
      "469       1            21         105.3   1        -12.0\n",
      "921       0            -2          96.7   0        -10.0\n",
      "946       1            18          95.8   0         -3.0\n",
      "1250      0           -10          85.4   1         35.0\n",
      "877       1             4          85.8   0        -25.0\n",
      "1494      0           -26          80.2   0         -2.0\n",
      "2008      1           -53          88.7   0         -7.0\n",
      "993       0            64          81.5   0         36.0\n",
      "1364      0           -34          80.7   0         -9.0\n",
      "1642      1            15          70.0   1         21.0\n"
     ]
    }
   ],
   "source": [
    "rf_data = data.drop(columns=['hc_x', 'hc_y', 'events'])\n",
    "rf_data['stand'] = rf_data['stand'].map({'R':0, 'L':1})\n",
    "print(rf_data.tail(10))\n",
    "\n",
    "X = rf_data.drop(columns=['ba'])\n",
    "y = rf_data['ba']"
   ]
  },
  {
   "cell_type": "code",
   "execution_count": 7,
   "id": "01138d63-2dde-41d5-9238-e0816fd4c6d5",
   "metadata": {
    "collapsed": true,
    "jupyter": {
     "outputs_hidden": true
    }
   },
   "outputs": [],
   "source": [
    "X_train, X_test, y_train, y_test = train_test_split(X, y, random_state=4, test_size=0.2)"
   ]
  },
  {
   "cell_type": "code",
   "execution_count": 8,
   "id": "2e42364a-ff21-475d-b664-f29b76d7fb94",
   "metadata": {
    "collapsed": true,
    "jupyter": {
     "outputs_hidden": true
    }
   },
   "outputs": [],
   "source": [
    "from sklearn.ensemble import GradientBoostingClassifier\n",
    "from sklearn.metrics import classification_report"
   ]
  },
  {
   "cell_type": "code",
   "execution_count": 9,
   "id": "124d4d91-dbed-4321-a390-7898f460dc3e",
   "metadata": {
    "collapsed": true,
    "jupyter": {
     "outputs_hidden": true
    }
   },
   "outputs": [
    {
     "name": "stdout",
     "output_type": "stream",
     "text": [
      "Requirement already satisfied: xgboost in c:\\users\\csusa\\anaconda3\\lib\\site-packages (2.1.3)\n",
      "Requirement already satisfied: numpy in c:\\users\\csusa\\anaconda3\\lib\\site-packages (from xgboost) (1.26.4)\n",
      "Requirement already satisfied: scipy in c:\\users\\csusa\\anaconda3\\lib\\site-packages (from xgboost) (1.13.1)\n"
     ]
    }
   ],
   "source": [
    "!pip install xgboost"
   ]
  },
  {
   "cell_type": "code",
   "execution_count": 10,
   "id": "2e2a4b65-e5e7-4452-abf9-d3e518480e91",
   "metadata": {
    "collapsed": true,
    "jupyter": {
     "outputs_hidden": true
    }
   },
   "outputs": [
    {
     "name": "stdout",
     "output_type": "stream",
     "text": [
      "[0]\tvalidation_0-aucpr:0.74163\n",
      "[1]\tvalidation_0-aucpr:0.75910\n",
      "[2]\tvalidation_0-aucpr:0.76972\n",
      "[3]\tvalidation_0-aucpr:0.77536\n",
      "[4]\tvalidation_0-aucpr:0.78582\n",
      "[5]\tvalidation_0-aucpr:0.79080\n",
      "[6]\tvalidation_0-aucpr:0.79213\n",
      "[7]\tvalidation_0-aucpr:0.80138\n",
      "[8]\tvalidation_0-aucpr:0.80319\n",
      "[9]\tvalidation_0-aucpr:0.81125\n",
      "[10]\tvalidation_0-aucpr:0.81180\n",
      "[11]\tvalidation_0-aucpr:0.81377\n",
      "[12]\tvalidation_0-aucpr:0.82025\n",
      "[13]\tvalidation_0-aucpr:0.82550\n",
      "[14]\tvalidation_0-aucpr:0.82758\n",
      "[15]\tvalidation_0-aucpr:0.82787\n",
      "[16]\tvalidation_0-aucpr:0.82793\n",
      "[17]\tvalidation_0-aucpr:0.82746\n",
      "[18]\tvalidation_0-aucpr:0.82746\n",
      "[19]\tvalidation_0-aucpr:0.82887\n",
      "[20]\tvalidation_0-aucpr:0.83226\n",
      "[21]\tvalidation_0-aucpr:0.83195\n",
      "[22]\tvalidation_0-aucpr:0.83198\n",
      "[23]\tvalidation_0-aucpr:0.83188\n",
      "[24]\tvalidation_0-aucpr:0.83360\n",
      "[25]\tvalidation_0-aucpr:0.83620\n",
      "[26]\tvalidation_0-aucpr:0.83597\n",
      "[27]\tvalidation_0-aucpr:0.83673\n",
      "[28]\tvalidation_0-aucpr:0.83636\n",
      "[29]\tvalidation_0-aucpr:0.83626\n",
      "[30]\tvalidation_0-aucpr:0.83692\n",
      "[31]\tvalidation_0-aucpr:0.83928\n",
      "[32]\tvalidation_0-aucpr:0.83960\n",
      "[33]\tvalidation_0-aucpr:0.83993\n",
      "[34]\tvalidation_0-aucpr:0.83976\n",
      "[35]\tvalidation_0-aucpr:0.83964\n",
      "[36]\tvalidation_0-aucpr:0.83969\n",
      "[37]\tvalidation_0-aucpr:0.84033\n",
      "[38]\tvalidation_0-aucpr:0.84018\n",
      "[39]\tvalidation_0-aucpr:0.84013\n",
      "[40]\tvalidation_0-aucpr:0.84071\n",
      "[41]\tvalidation_0-aucpr:0.84103\n",
      "[42]\tvalidation_0-aucpr:0.84096\n",
      "[43]\tvalidation_0-aucpr:0.84089\n",
      "[44]\tvalidation_0-aucpr:0.84116\n",
      "[45]\tvalidation_0-aucpr:0.84114\n",
      "[46]\tvalidation_0-aucpr:0.84152\n",
      "[47]\tvalidation_0-aucpr:0.84358\n",
      "[48]\tvalidation_0-aucpr:0.84383\n",
      "[49]\tvalidation_0-aucpr:0.84379\n",
      "[50]\tvalidation_0-aucpr:0.84396\n",
      "[51]\tvalidation_0-aucpr:0.84390\n",
      "[52]\tvalidation_0-aucpr:0.84409\n",
      "[53]\tvalidation_0-aucpr:0.84410\n",
      "[54]\tvalidation_0-aucpr:0.84413\n",
      "[55]\tvalidation_0-aucpr:0.84385\n",
      "[56]\tvalidation_0-aucpr:0.84379\n",
      "[57]\tvalidation_0-aucpr:0.84387\n",
      "[58]\tvalidation_0-aucpr:0.84389\n",
      "[59]\tvalidation_0-aucpr:0.84380\n",
      "[60]\tvalidation_0-aucpr:0.84370\n",
      "[61]\tvalidation_0-aucpr:0.84392\n",
      "[62]\tvalidation_0-aucpr:0.84390\n",
      "[63]\tvalidation_0-aucpr:0.84391\n"
     ]
    }
   ],
   "source": [
    "import xgboost as xgb\n",
    "\n",
    "xgb_model = xgb.XGBClassifier(early_stopping_rounds=10, eval_metric='aucpr')\n",
    "xgb_model.fit(X_train, y_train, eval_set = [(X_test, y_test)],verbose= True)\n",
    "y_pred = xgb_model.predict(X_test)"
   ]
  },
  {
   "cell_type": "code",
   "execution_count": 11,
   "id": "d5d00916-4558-4fb0-84d8-a6a90bf1490f",
   "metadata": {
    "scrolled": true
   },
   "outputs": [
    {
     "name": "stdout",
     "output_type": "stream",
     "text": [
      "              precision    recall  f1-score   support\n",
      "\n",
      "           0       0.87      0.90      0.88      5538\n",
      "           1       0.78      0.71      0.75      2711\n",
      "\n",
      "    accuracy                           0.84      8249\n",
      "   macro avg       0.82      0.81      0.82      8249\n",
      "weighted avg       0.84      0.84      0.84      8249\n",
      "\n"
     ]
    }
   ],
   "source": [
    "print(classification_report(y_test, y_pred))"
   ]
  },
  {
   "cell_type": "code",
   "execution_count": 12,
   "id": "ede57f38-cdc4-4e18-b088-156cb028be77",
   "metadata": {
    "collapsed": true,
    "jupyter": {
     "outputs_hidden": true
    }
   },
   "outputs": [
    {
     "name": "stdout",
     "output_type": "stream",
     "text": [
      "Requirement already satisfied: seaborn in c:\\users\\csusa\\anaconda3\\lib\\site-packages (0.13.2)\n",
      "Requirement already satisfied: numpy!=1.24.0,>=1.20 in c:\\users\\csusa\\anaconda3\\lib\\site-packages (from seaborn) (1.26.4)\n",
      "Requirement already satisfied: pandas>=1.2 in c:\\users\\csusa\\anaconda3\\lib\\site-packages (from seaborn) (2.2.2)\n",
      "Requirement already satisfied: matplotlib!=3.6.1,>=3.4 in c:\\users\\csusa\\anaconda3\\lib\\site-packages (from seaborn) (3.9.2)\n",
      "Requirement already satisfied: contourpy>=1.0.1 in c:\\users\\csusa\\anaconda3\\lib\\site-packages (from matplotlib!=3.6.1,>=3.4->seaborn) (1.2.0)\n",
      "Requirement already satisfied: cycler>=0.10 in c:\\users\\csusa\\anaconda3\\lib\\site-packages (from matplotlib!=3.6.1,>=3.4->seaborn) (0.11.0)\n",
      "Requirement already satisfied: fonttools>=4.22.0 in c:\\users\\csusa\\anaconda3\\lib\\site-packages (from matplotlib!=3.6.1,>=3.4->seaborn) (4.51.0)\n",
      "Requirement already satisfied: kiwisolver>=1.3.1 in c:\\users\\csusa\\anaconda3\\lib\\site-packages (from matplotlib!=3.6.1,>=3.4->seaborn) (1.4.4)\n",
      "Requirement already satisfied: packaging>=20.0 in c:\\users\\csusa\\appdata\\roaming\\python\\python312\\site-packages (from matplotlib!=3.6.1,>=3.4->seaborn) (24.2)\n",
      "Requirement already satisfied: pillow>=8 in c:\\users\\csusa\\anaconda3\\lib\\site-packages (from matplotlib!=3.6.1,>=3.4->seaborn) (10.4.0)\n",
      "Requirement already satisfied: pyparsing>=2.3.1 in c:\\users\\csusa\\anaconda3\\lib\\site-packages (from matplotlib!=3.6.1,>=3.4->seaborn) (3.1.2)\n",
      "Requirement already satisfied: python-dateutil>=2.7 in c:\\users\\csusa\\anaconda3\\lib\\site-packages (from matplotlib!=3.6.1,>=3.4->seaborn) (2.9.0.post0)\n",
      "Requirement already satisfied: pytz>=2020.1 in c:\\users\\csusa\\anaconda3\\lib\\site-packages (from pandas>=1.2->seaborn) (2024.1)\n",
      "Requirement already satisfied: tzdata>=2022.7 in c:\\users\\csusa\\anaconda3\\lib\\site-packages (from pandas>=1.2->seaborn) (2023.3)\n",
      "Requirement already satisfied: six>=1.5 in c:\\users\\csusa\\anaconda3\\lib\\site-packages (from python-dateutil>=2.7->matplotlib!=3.6.1,>=3.4->seaborn) (1.16.0)\n"
     ]
    }
   ],
   "source": [
    "!pip install seaborn "
   ]
  },
  {
   "cell_type": "code",
   "execution_count": 13,
   "id": "ffd68e1e-da3d-405a-849f-73c8c1075116",
   "metadata": {
    "collapsed": true,
    "jupyter": {
     "outputs_hidden": true
    }
   },
   "outputs": [
    {
     "name": "stdout",
     "output_type": "stream",
     "text": [
      "Requirement already satisfied: ipywidgets in c:\\users\\csusa\\anaconda3\\lib\\site-packages (8.1.5)\n",
      "Requirement already satisfied: comm>=0.1.3 in c:\\users\\csusa\\anaconda3\\lib\\site-packages (from ipywidgets) (0.2.1)\n",
      "Requirement already satisfied: ipython>=6.1.0 in c:\\users\\csusa\\anaconda3\\lib\\site-packages (from ipywidgets) (8.27.0)\n",
      "Requirement already satisfied: traitlets>=4.3.1 in c:\\users\\csusa\\anaconda3\\lib\\site-packages (from ipywidgets) (5.14.3)\n",
      "Requirement already satisfied: widgetsnbextension~=4.0.12 in c:\\users\\csusa\\anaconda3\\lib\\site-packages (from ipywidgets) (4.0.13)\n",
      "Requirement already satisfied: jupyterlab-widgets~=3.0.12 in c:\\users\\csusa\\anaconda3\\lib\\site-packages (from ipywidgets) (3.0.13)\n",
      "Requirement already satisfied: decorator in c:\\users\\csusa\\anaconda3\\lib\\site-packages (from ipython>=6.1.0->ipywidgets) (5.1.1)\n",
      "Requirement already satisfied: jedi>=0.16 in c:\\users\\csusa\\anaconda3\\lib\\site-packages (from ipython>=6.1.0->ipywidgets) (0.19.1)\n",
      "Requirement already satisfied: matplotlib-inline in c:\\users\\csusa\\anaconda3\\lib\\site-packages (from ipython>=6.1.0->ipywidgets) (0.1.6)\n",
      "Requirement already satisfied: prompt-toolkit<3.1.0,>=3.0.41 in c:\\users\\csusa\\anaconda3\\lib\\site-packages (from ipython>=6.1.0->ipywidgets) (3.0.43)\n",
      "Requirement already satisfied: pygments>=2.4.0 in c:\\users\\csusa\\anaconda3\\lib\\site-packages (from ipython>=6.1.0->ipywidgets) (2.15.1)\n",
      "Requirement already satisfied: stack-data in c:\\users\\csusa\\anaconda3\\lib\\site-packages (from ipython>=6.1.0->ipywidgets) (0.2.0)\n",
      "Requirement already satisfied: colorama in c:\\users\\csusa\\appdata\\roaming\\python\\python312\\site-packages (from ipython>=6.1.0->ipywidgets) (0.4.6)\n",
      "Requirement already satisfied: parso<0.9.0,>=0.8.3 in c:\\users\\csusa\\anaconda3\\lib\\site-packages (from jedi>=0.16->ipython>=6.1.0->ipywidgets) (0.8.3)\n",
      "Requirement already satisfied: wcwidth in c:\\users\\csusa\\anaconda3\\lib\\site-packages (from prompt-toolkit<3.1.0,>=3.0.41->ipython>=6.1.0->ipywidgets) (0.2.5)\n",
      "Requirement already satisfied: executing in c:\\users\\csusa\\anaconda3\\lib\\site-packages (from stack-data->ipython>=6.1.0->ipywidgets) (0.8.3)\n",
      "Requirement already satisfied: asttokens in c:\\users\\csusa\\anaconda3\\lib\\site-packages (from stack-data->ipython>=6.1.0->ipywidgets) (2.0.5)\n",
      "Requirement already satisfied: pure-eval in c:\\users\\csusa\\anaconda3\\lib\\site-packages (from stack-data->ipython>=6.1.0->ipywidgets) (0.2.2)\n",
      "Requirement already satisfied: six in c:\\users\\csusa\\anaconda3\\lib\\site-packages (from asttokens->stack-data->ipython>=6.1.0->ipywidgets) (1.16.0)\n"
     ]
    }
   ],
   "source": [
    "!pip install ipywidgets --upgrade"
   ]
  },
  {
   "cell_type": "code",
   "execution_count": 14,
   "id": "b92bd6c0-2031-4a81-8b3e-b31db8ea2d05",
   "metadata": {
    "collapsed": true,
    "jupyter": {
     "outputs_hidden": true
    }
   },
   "outputs": [],
   "source": [
    "import ipywidgets as widgets\n",
    "from IPython.display import display\n",
    "from ipywidgets import interact\n",
    "import matplotlib.pyplot as plt\n",
    "import seaborn as sns\n",
    "from matplotlib.colors import ListedColormap\n"
   ]
  },
  {
   "cell_type": "code",
   "execution_count": 15,
   "id": "50c9daee-d856-4b97-9683-456d9fa82465",
   "metadata": {
    "collapsed": true,
    "jupyter": {
     "outputs_hidden": true
    }
   },
   "outputs": [
    {
     "data": {
      "application/vnd.jupyter.widget-view+json": {
       "model_id": "67b62fd89a874a25ae48405b38c73761",
       "version_major": 2,
       "version_minor": 0
      },
      "text/plain": [
       "HBox(children=(IntSlider(value=10, description='Exit Velocity', max=125, min=10, style=SliderStyle(handle_colo…"
      ]
     },
     "metadata": {},
     "output_type": "display_data"
    },
    {
     "data": {
      "application/vnd.jupyter.widget-view+json": {
       "model_id": "4c1164c353584d1bbdb2d84b3a23e8ea",
       "version_major": 2,
       "version_minor": 0
      },
      "text/plain": [
       "Output()"
      ]
     },
     "metadata": {},
     "output_type": "display_data"
    }
   ],
   "source": [
    "ss= {'handle_color': '#f79168'}\n",
    "cs = '#f79168'\n",
    "ev = widgets.IntSlider(min= 10, max= 125, description= 'Exit Velocity', style= ss)\n",
    "la = widgets.IntSlider(min= -90, max= 90, description= 'Launch Angle', style= ss)\n",
    "sa = widgets.IntSlider(min= -45, max= 45, description= 'Spray Angle', style= ss)\n",
    "stand = widgets.RadioButtons(options= ['Right Handed Hitter', 'Left Handed Hitter'])\n",
    "output = widgets.Output()\n",
    "enter = widgets.Button(description= 'Predict Outcome')\n",
    "enter.style.button_color= cs\n",
    "hbox = widgets.HBox([ev, la, sa, stand, enter])\n",
    "hbox.layout.margin= 'auto'\n",
    "display(hbox, output)\n",
    "\n",
    "def plot_angles(ball, outcome):\n",
    "\n",
    "    stand = ball[0][0]\n",
    "    la = ball[0][1]\n",
    "    ev = ball[0][2]\n",
    "    sa = ball[0][3]\n",
    "    la_rad = np.radians(la)\n",
    "    sa_rad = np.radians(sa)\n",
    "    fig, ax = plt.subplots(1, 3, figsize=(15, 5), subplot_kw={'projection': 'polar'})\n",
    "\n",
    "    ax[0].text(0, 0, outcome, fontsize= 20, ha= 'center', va= 'center')\n",
    "    ax[0].axis('off')\n",
    "    \n",
    "    ax[1].plot([la_rad, la_rad], [0, 1], linewidth=4, color=cs)\n",
    "    ax[1].set_theta_zero_location('E')\n",
    "    ax[1].set_xlim(-np.pi / 2, np.pi / 2)\n",
    "    ax[1].set_title('Launch Angle')\n",
    "\n",
    "\n",
    "    ax[2].plot([sa_rad, sa_rad], [0, 1], linewidth=4, c=cs)\n",
    "    ax[2].set_title('Spray Angle LHH')\n",
    "    if stand == 0:\n",
    "        ax[2].set_theta_direction(-1)\n",
    "        ax[2].set_title('Spray Angle RHH')\n",
    "\n",
    "\n",
    "    ax[2].set_theta_zero_location('N')\n",
    "    ax[2].set_xlim(-np.pi / 4, np.pi / 4)\n",
    "\n",
    "\n",
    "\n",
    "    plt.show()\n",
    "\n",
    "def plot_graphs(graph_ball):\n",
    "\n",
    "    input_df = pd.DataFrame(graph_ball, columns=['stand', 'launch_angle', 'launch_speed' ,'ba' ,'spray_angle'])\n",
    "    all_balls = pd.concat([rf_data, input_df], ignore_index= True)\n",
    "    fig, ax = plt.subplots(1, 3, figsize=(15, 5))\n",
    "    \n",
    "    colors = ['black', '#a9b0ba', '#f79168']\n",
    "    \n",
    "    outcome_map= {0: 'Out',1: 'Hit',2: 'Projected Ball'}\n",
    "    outcomes = all_balls.ba.map(outcome_map)\n",
    "\n",
    "    sns.scatterplot(x='launch_angle', y='launch_speed', data=all_balls, hue=outcomes, palette= colors, ax= ax[0])\n",
    "    ax[0].set_title('Outcome by Exit Velo & Launch Angle')\n",
    "    ax[0].set_xlabel('Launch Angle')\n",
    "    ax[0].set_ylabel('Exit Velocity')\n",
    "    ax[0].legend(title= '', loc= 'lower left', ncol=3)\n",
    "    sns.scatterplot(x='spray_angle', y='launch_speed', data=all_balls, hue=outcomes, palette= colors, ax= ax[1])\n",
    "    ax[1].set_xlabel('Spray Angle')\n",
    "    ax[1].set_ylabel('Exit Velocity')\n",
    "    ax[1].legend(title= '', loc= 'lower left', ncol= 3)\n",
    "    ax[1].set_title('Outcome by Exit Velo & Spray Angle')\n",
    "    sns.scatterplot(x='spray_angle', y='launch_angle', data=all_balls, hue=outcomes, palette=colors, ax= ax[2])\n",
    "    ax[2].set_xlabel('Spray Angle')\n",
    "    ax[2].set_ylabel('Launch Angle')\n",
    "    ax[2].legend(title= '', loc='upper left', ncol= 3)\n",
    "    ax[2].set_title('Outcome by Spray Angle & Launch Angle')\n",
    "\n",
    "    plt.tight_layout()\n",
    "    plt.show()\n",
    "\n",
    "def clicked(_):\n",
    "    with output:\n",
    "        output.clear_output()\n",
    "        \n",
    "        ev_s= ev.value\n",
    "        la_s= la.value\n",
    "        sa_s= sa.value\n",
    "        s= 0\n",
    "        if stand.value == 'Left Handed Hitter':\n",
    "            s= 1\n",
    "        \n",
    "        ball= np.array([[s, la_s, ev_s, sa_s]])\n",
    "        balls = pd.DataFrame(ball, columns=['stand', 'launch_angle', 'launch_speed', 'spray_angle'])\n",
    "        #outcome = rf.predict(balls)\n",
    "        outcome = xgb_model.predict(balls)\n",
    "        if outcome == 0: \n",
    "            outcome = 'Prediction: Out'\n",
    "        else: outcome = 'Prediction: Hit'\n",
    "        plot_angles(ball, outcome)\n",
    "        graph_ball= np.array([[s, la_s, ev_s, 2, sa_s]])\n",
    "        plot_graphs(graph_ball)\n",
    "        \n",
    "enter.on_click(clicked)"
   ]
  },
  {
   "cell_type": "code",
   "execution_count": null,
   "id": "e3eff717-9b34-472e-a1e6-66674edfe125",
   "metadata": {
    "collapsed": true,
    "jupyter": {
     "outputs_hidden": true
    }
   },
   "outputs": [],
   "source": []
  }
 ],
 "metadata": {
  "kernelspec": {
   "display_name": "Python [conda env:base] *",
   "language": "python",
   "name": "conda-base-py"
  },
  "language_info": {
   "codemirror_mode": {
    "name": "ipython",
    "version": 3
   },
   "file_extension": ".py",
   "mimetype": "text/x-python",
   "name": "python",
   "nbconvert_exporter": "python",
   "pygments_lexer": "ipython3",
   "version": "3.12.7"
  }
 },
 "nbformat": 4,
 "nbformat_minor": 5
}
